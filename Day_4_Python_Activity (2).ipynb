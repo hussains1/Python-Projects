{
  "cells": [
    {
      "cell_type": "markdown",
      "id": "1d59ce7d",
      "metadata": {
        "id": "1d59ce7d"
      },
      "source": [
        "# Pandas, Matplotlib and Seaborn"
      ]
    },
    {
      "cell_type": "code",
      "source": [
        "from google.colab import files\n",
        "\n",
        "uploaded = files.upload()"
      ],
      "metadata": {
        "colab": {
          "base_uri": "https://localhost:8080/",
          "height": 73
        },
        "id": "yk-dlo83qtyo",
        "outputId": "47f10246-8df2-4960-82cf-0dccbb225216"
      },
      "id": "yk-dlo83qtyo",
      "execution_count": null,
      "outputs": [
        {
          "output_type": "display_data",
          "data": {
            "text/plain": [
              "<IPython.core.display.HTML object>"
            ],
            "text/html": [
              "\n",
              "     <input type=\"file\" id=\"files-da47fc21-a669-44b0-927f-6b9e7d7b9087\" name=\"files[]\" multiple disabled\n",
              "        style=\"border:none\" />\n",
              "     <output id=\"result-da47fc21-a669-44b0-927f-6b9e7d7b9087\">\n",
              "      Upload widget is only available when the cell has been executed in the\n",
              "      current browser session. Please rerun this cell to enable.\n",
              "      </output>\n",
              "      <script>// Copyright 2017 Google LLC\n",
              "//\n",
              "// Licensed under the Apache License, Version 2.0 (the \"License\");\n",
              "// you may not use this file except in compliance with the License.\n",
              "// You may obtain a copy of the License at\n",
              "//\n",
              "//      http://www.apache.org/licenses/LICENSE-2.0\n",
              "//\n",
              "// Unless required by applicable law or agreed to in writing, software\n",
              "// distributed under the License is distributed on an \"AS IS\" BASIS,\n",
              "// WITHOUT WARRANTIES OR CONDITIONS OF ANY KIND, either express or implied.\n",
              "// See the License for the specific language governing permissions and\n",
              "// limitations under the License.\n",
              "\n",
              "/**\n",
              " * @fileoverview Helpers for google.colab Python module.\n",
              " */\n",
              "(function(scope) {\n",
              "function span(text, styleAttributes = {}) {\n",
              "  const element = document.createElement('span');\n",
              "  element.textContent = text;\n",
              "  for (const key of Object.keys(styleAttributes)) {\n",
              "    element.style[key] = styleAttributes[key];\n",
              "  }\n",
              "  return element;\n",
              "}\n",
              "\n",
              "// Max number of bytes which will be uploaded at a time.\n",
              "const MAX_PAYLOAD_SIZE = 100 * 1024;\n",
              "\n",
              "function _uploadFiles(inputId, outputId) {\n",
              "  const steps = uploadFilesStep(inputId, outputId);\n",
              "  const outputElement = document.getElementById(outputId);\n",
              "  // Cache steps on the outputElement to make it available for the next call\n",
              "  // to uploadFilesContinue from Python.\n",
              "  outputElement.steps = steps;\n",
              "\n",
              "  return _uploadFilesContinue(outputId);\n",
              "}\n",
              "\n",
              "// This is roughly an async generator (not supported in the browser yet),\n",
              "// where there are multiple asynchronous steps and the Python side is going\n",
              "// to poll for completion of each step.\n",
              "// This uses a Promise to block the python side on completion of each step,\n",
              "// then passes the result of the previous step as the input to the next step.\n",
              "function _uploadFilesContinue(outputId) {\n",
              "  const outputElement = document.getElementById(outputId);\n",
              "  const steps = outputElement.steps;\n",
              "\n",
              "  const next = steps.next(outputElement.lastPromiseValue);\n",
              "  return Promise.resolve(next.value.promise).then((value) => {\n",
              "    // Cache the last promise value to make it available to the next\n",
              "    // step of the generator.\n",
              "    outputElement.lastPromiseValue = value;\n",
              "    return next.value.response;\n",
              "  });\n",
              "}\n",
              "\n",
              "/**\n",
              " * Generator function which is called between each async step of the upload\n",
              " * process.\n",
              " * @param {string} inputId Element ID of the input file picker element.\n",
              " * @param {string} outputId Element ID of the output display.\n",
              " * @return {!Iterable<!Object>} Iterable of next steps.\n",
              " */\n",
              "function* uploadFilesStep(inputId, outputId) {\n",
              "  const inputElement = document.getElementById(inputId);\n",
              "  inputElement.disabled = false;\n",
              "\n",
              "  const outputElement = document.getElementById(outputId);\n",
              "  outputElement.innerHTML = '';\n",
              "\n",
              "  const pickedPromise = new Promise((resolve) => {\n",
              "    inputElement.addEventListener('change', (e) => {\n",
              "      resolve(e.target.files);\n",
              "    });\n",
              "  });\n",
              "\n",
              "  const cancel = document.createElement('button');\n",
              "  inputElement.parentElement.appendChild(cancel);\n",
              "  cancel.textContent = 'Cancel upload';\n",
              "  const cancelPromise = new Promise((resolve) => {\n",
              "    cancel.onclick = () => {\n",
              "      resolve(null);\n",
              "    };\n",
              "  });\n",
              "\n",
              "  // Wait for the user to pick the files.\n",
              "  const files = yield {\n",
              "    promise: Promise.race([pickedPromise, cancelPromise]),\n",
              "    response: {\n",
              "      action: 'starting',\n",
              "    }\n",
              "  };\n",
              "\n",
              "  cancel.remove();\n",
              "\n",
              "  // Disable the input element since further picks are not allowed.\n",
              "  inputElement.disabled = true;\n",
              "\n",
              "  if (!files) {\n",
              "    return {\n",
              "      response: {\n",
              "        action: 'complete',\n",
              "      }\n",
              "    };\n",
              "  }\n",
              "\n",
              "  for (const file of files) {\n",
              "    const li = document.createElement('li');\n",
              "    li.append(span(file.name, {fontWeight: 'bold'}));\n",
              "    li.append(span(\n",
              "        `(${file.type || 'n/a'}) - ${file.size} bytes, ` +\n",
              "        `last modified: ${\n",
              "            file.lastModifiedDate ? file.lastModifiedDate.toLocaleDateString() :\n",
              "                                    'n/a'} - `));\n",
              "    const percent = span('0% done');\n",
              "    li.appendChild(percent);\n",
              "\n",
              "    outputElement.appendChild(li);\n",
              "\n",
              "    const fileDataPromise = new Promise((resolve) => {\n",
              "      const reader = new FileReader();\n",
              "      reader.onload = (e) => {\n",
              "        resolve(e.target.result);\n",
              "      };\n",
              "      reader.readAsArrayBuffer(file);\n",
              "    });\n",
              "    // Wait for the data to be ready.\n",
              "    let fileData = yield {\n",
              "      promise: fileDataPromise,\n",
              "      response: {\n",
              "        action: 'continue',\n",
              "      }\n",
              "    };\n",
              "\n",
              "    // Use a chunked sending to avoid message size limits. See b/62115660.\n",
              "    let position = 0;\n",
              "    do {\n",
              "      const length = Math.min(fileData.byteLength - position, MAX_PAYLOAD_SIZE);\n",
              "      const chunk = new Uint8Array(fileData, position, length);\n",
              "      position += length;\n",
              "\n",
              "      const base64 = btoa(String.fromCharCode.apply(null, chunk));\n",
              "      yield {\n",
              "        response: {\n",
              "          action: 'append',\n",
              "          file: file.name,\n",
              "          data: base64,\n",
              "        },\n",
              "      };\n",
              "\n",
              "      let percentDone = fileData.byteLength === 0 ?\n",
              "          100 :\n",
              "          Math.round((position / fileData.byteLength) * 100);\n",
              "      percent.textContent = `${percentDone}% done`;\n",
              "\n",
              "    } while (position < fileData.byteLength);\n",
              "  }\n",
              "\n",
              "  // All done.\n",
              "  yield {\n",
              "    response: {\n",
              "      action: 'complete',\n",
              "    }\n",
              "  };\n",
              "}\n",
              "\n",
              "scope.google = scope.google || {};\n",
              "scope.google.colab = scope.google.colab || {};\n",
              "scope.google.colab._files = {\n",
              "  _uploadFiles,\n",
              "  _uploadFilesContinue,\n",
              "};\n",
              "})(self);\n",
              "</script> "
            ]
          },
          "metadata": {}
        },
        {
          "output_type": "stream",
          "name": "stdout",
          "text": [
            "Saving Day_4_Python_Activity.ipynb to Day_4_Python_Activity.ipynb\n"
          ]
        }
      ]
    },
    {
      "cell_type": "code",
      "source": [
        "from google.colab import files\n",
        "\n",
        "uploaded = files.upload()"
      ],
      "metadata": {
        "colab": {
          "base_uri": "https://localhost:8080/",
          "height": 73
        },
        "id": "Zuyd3mzPsAPR",
        "outputId": "b93a977c-a2dc-41ef-8fb3-99212a6f050f"
      },
      "id": "Zuyd3mzPsAPR",
      "execution_count": null,
      "outputs": [
        {
          "output_type": "display_data",
          "data": {
            "text/plain": [
              "<IPython.core.display.HTML object>"
            ],
            "text/html": [
              "\n",
              "     <input type=\"file\" id=\"files-6dd56a75-2d5f-47f2-9de2-3d7ba9b7204b\" name=\"files[]\" multiple disabled\n",
              "        style=\"border:none\" />\n",
              "     <output id=\"result-6dd56a75-2d5f-47f2-9de2-3d7ba9b7204b\">\n",
              "      Upload widget is only available when the cell has been executed in the\n",
              "      current browser session. Please rerun this cell to enable.\n",
              "      </output>\n",
              "      <script>// Copyright 2017 Google LLC\n",
              "//\n",
              "// Licensed under the Apache License, Version 2.0 (the \"License\");\n",
              "// you may not use this file except in compliance with the License.\n",
              "// You may obtain a copy of the License at\n",
              "//\n",
              "//      http://www.apache.org/licenses/LICENSE-2.0\n",
              "//\n",
              "// Unless required by applicable law or agreed to in writing, software\n",
              "// distributed under the License is distributed on an \"AS IS\" BASIS,\n",
              "// WITHOUT WARRANTIES OR CONDITIONS OF ANY KIND, either express or implied.\n",
              "// See the License for the specific language governing permissions and\n",
              "// limitations under the License.\n",
              "\n",
              "/**\n",
              " * @fileoverview Helpers for google.colab Python module.\n",
              " */\n",
              "(function(scope) {\n",
              "function span(text, styleAttributes = {}) {\n",
              "  const element = document.createElement('span');\n",
              "  element.textContent = text;\n",
              "  for (const key of Object.keys(styleAttributes)) {\n",
              "    element.style[key] = styleAttributes[key];\n",
              "  }\n",
              "  return element;\n",
              "}\n",
              "\n",
              "// Max number of bytes which will be uploaded at a time.\n",
              "const MAX_PAYLOAD_SIZE = 100 * 1024;\n",
              "\n",
              "function _uploadFiles(inputId, outputId) {\n",
              "  const steps = uploadFilesStep(inputId, outputId);\n",
              "  const outputElement = document.getElementById(outputId);\n",
              "  // Cache steps on the outputElement to make it available for the next call\n",
              "  // to uploadFilesContinue from Python.\n",
              "  outputElement.steps = steps;\n",
              "\n",
              "  return _uploadFilesContinue(outputId);\n",
              "}\n",
              "\n",
              "// This is roughly an async generator (not supported in the browser yet),\n",
              "// where there are multiple asynchronous steps and the Python side is going\n",
              "// to poll for completion of each step.\n",
              "// This uses a Promise to block the python side on completion of each step,\n",
              "// then passes the result of the previous step as the input to the next step.\n",
              "function _uploadFilesContinue(outputId) {\n",
              "  const outputElement = document.getElementById(outputId);\n",
              "  const steps = outputElement.steps;\n",
              "\n",
              "  const next = steps.next(outputElement.lastPromiseValue);\n",
              "  return Promise.resolve(next.value.promise).then((value) => {\n",
              "    // Cache the last promise value to make it available to the next\n",
              "    // step of the generator.\n",
              "    outputElement.lastPromiseValue = value;\n",
              "    return next.value.response;\n",
              "  });\n",
              "}\n",
              "\n",
              "/**\n",
              " * Generator function which is called between each async step of the upload\n",
              " * process.\n",
              " * @param {string} inputId Element ID of the input file picker element.\n",
              " * @param {string} outputId Element ID of the output display.\n",
              " * @return {!Iterable<!Object>} Iterable of next steps.\n",
              " */\n",
              "function* uploadFilesStep(inputId, outputId) {\n",
              "  const inputElement = document.getElementById(inputId);\n",
              "  inputElement.disabled = false;\n",
              "\n",
              "  const outputElement = document.getElementById(outputId);\n",
              "  outputElement.innerHTML = '';\n",
              "\n",
              "  const pickedPromise = new Promise((resolve) => {\n",
              "    inputElement.addEventListener('change', (e) => {\n",
              "      resolve(e.target.files);\n",
              "    });\n",
              "  });\n",
              "\n",
              "  const cancel = document.createElement('button');\n",
              "  inputElement.parentElement.appendChild(cancel);\n",
              "  cancel.textContent = 'Cancel upload';\n",
              "  const cancelPromise = new Promise((resolve) => {\n",
              "    cancel.onclick = () => {\n",
              "      resolve(null);\n",
              "    };\n",
              "  });\n",
              "\n",
              "  // Wait for the user to pick the files.\n",
              "  const files = yield {\n",
              "    promise: Promise.race([pickedPromise, cancelPromise]),\n",
              "    response: {\n",
              "      action: 'starting',\n",
              "    }\n",
              "  };\n",
              "\n",
              "  cancel.remove();\n",
              "\n",
              "  // Disable the input element since further picks are not allowed.\n",
              "  inputElement.disabled = true;\n",
              "\n",
              "  if (!files) {\n",
              "    return {\n",
              "      response: {\n",
              "        action: 'complete',\n",
              "      }\n",
              "    };\n",
              "  }\n",
              "\n",
              "  for (const file of files) {\n",
              "    const li = document.createElement('li');\n",
              "    li.append(span(file.name, {fontWeight: 'bold'}));\n",
              "    li.append(span(\n",
              "        `(${file.type || 'n/a'}) - ${file.size} bytes, ` +\n",
              "        `last modified: ${\n",
              "            file.lastModifiedDate ? file.lastModifiedDate.toLocaleDateString() :\n",
              "                                    'n/a'} - `));\n",
              "    const percent = span('0% done');\n",
              "    li.appendChild(percent);\n",
              "\n",
              "    outputElement.appendChild(li);\n",
              "\n",
              "    const fileDataPromise = new Promise((resolve) => {\n",
              "      const reader = new FileReader();\n",
              "      reader.onload = (e) => {\n",
              "        resolve(e.target.result);\n",
              "      };\n",
              "      reader.readAsArrayBuffer(file);\n",
              "    });\n",
              "    // Wait for the data to be ready.\n",
              "    let fileData = yield {\n",
              "      promise: fileDataPromise,\n",
              "      response: {\n",
              "        action: 'continue',\n",
              "      }\n",
              "    };\n",
              "\n",
              "    // Use a chunked sending to avoid message size limits. See b/62115660.\n",
              "    let position = 0;\n",
              "    do {\n",
              "      const length = Math.min(fileData.byteLength - position, MAX_PAYLOAD_SIZE);\n",
              "      const chunk = new Uint8Array(fileData, position, length);\n",
              "      position += length;\n",
              "\n",
              "      const base64 = btoa(String.fromCharCode.apply(null, chunk));\n",
              "      yield {\n",
              "        response: {\n",
              "          action: 'append',\n",
              "          file: file.name,\n",
              "          data: base64,\n",
              "        },\n",
              "      };\n",
              "\n",
              "      let percentDone = fileData.byteLength === 0 ?\n",
              "          100 :\n",
              "          Math.round((position / fileData.byteLength) * 100);\n",
              "      percent.textContent = `${percentDone}% done`;\n",
              "\n",
              "    } while (position < fileData.byteLength);\n",
              "  }\n",
              "\n",
              "  // All done.\n",
              "  yield {\n",
              "    response: {\n",
              "      action: 'complete',\n",
              "    }\n",
              "  };\n",
              "}\n",
              "\n",
              "scope.google = scope.google || {};\n",
              "scope.google.colab = scope.google.colab || {};\n",
              "scope.google.colab._files = {\n",
              "  _uploadFiles,\n",
              "  _uploadFilesContinue,\n",
              "};\n",
              "})(self);\n",
              "</script> "
            ]
          },
          "metadata": {}
        },
        {
          "output_type": "stream",
          "name": "stdout",
          "text": [
            "Saving GDP (nominal) per Capita.csv to GDP (nominal) per Capita.csv\n"
          ]
        }
      ]
    },
    {
      "cell_type": "code",
      "execution_count": null,
      "id": "a163483f",
      "metadata": {
        "id": "a163483f"
      },
      "outputs": [],
      "source": [
        "import pandas as pd"
      ]
    },
    {
      "cell_type": "markdown",
      "id": "3e9cb5a8",
      "metadata": {
        "id": "3e9cb5a8"
      },
      "source": [
        "[Dataset Soruce](https://www.kaggle.com/datasets/rajkumarpandey02/gdp-in-usd-per-capita-income-by-country)"
      ]
    },
    {
      "cell_type": "markdown",
      "id": "7d8ea84d",
      "metadata": {
        "id": "7d8ea84d"
      },
      "source": [
        "CONTENT\n",
        "<p>The figures presented here do not take into account differences in the cost of living in different countries, and the results vary greatly from one year to another based on fluctuations in the exchange rates of the country's currency. Such fluctuations change a country's ranking from one year to the next, even though they often make little or no difference to the standard of living of its population.\n",
        "\n",
        "GDP per capita is often considered an indicator of a country's standard of living; however, this is inaccurate because GDP per capita is not a measure of personal income.\n",
        "\n",
        "Comparisons of national income are also frequently made on the basis of purchasing power parity (PPP), to adjust for differences in the cost of living in different countries. (See List of countries by GDP (PPP) per capita.) PPP largely removes the exchange rate problem but not others; it does not reflect the value of economic output in international trade, and it also requires more estimation than GDP per capita. On the whole, PPP per capita figures are more narrowly spread than nominal GDP per capita figures.</p>"
      ]
    },
    {
      "cell_type": "markdown",
      "id": "439369dd",
      "metadata": {
        "id": "439369dd"
      },
      "source": [
        "Here are some resources to learn about GDP:\n",
        "#### [World Bank](https://data.worldbank.org/indicator/ny.gdp.pcap.cd?most_recent_value_desc=false)\n",
        "#### [Our World in Data](https://ourworldindata.org/grapher/gdp-per-capita-worldbank)\n",
        "#### [IMF](https://www.imf.org/external/datamapper/NGDPD@WEO/OEMDC/ADVEC/WEOWORLD)\n",
        "#### [UN Data](https://data.un.org/Data.aspx?d=SNAAMA&f=grID%3A101%3BcurrID%3AUSD%3BpcFlag%3A1)\n",
        "\n"
      ]
    },
    {
      "cell_type": "code",
      "execution_count": null,
      "id": "d007012d",
      "metadata": {
        "id": "d007012d"
      },
      "outputs": [],
      "source": [
        "df = pd.read_csv(\"GDP (nominal) per Capita.csv\",encoding= 'unicode_escape',  index_col=0)"
      ]
    },
    {
      "cell_type": "markdown",
      "id": "96a8f1f7",
      "metadata": {
        "id": "96a8f1f7"
      },
      "source": [
        "## EDA (Exploratory Data Analysis)"
      ]
    },
    {
      "cell_type": "markdown",
      "id": "5110f855-43ca-4e07-bab6-0339c0cfb3a0",
      "metadata": {
        "id": "5110f855-43ca-4e07-bab6-0339c0cfb3a0"
      },
      "source": [
        "### Use this section to explore and inspect dataset."
      ]
    },
    {
      "cell_type": "code",
      "execution_count": null,
      "id": "483250d8-486e-4046-9ebe-e73940f0f1f3",
      "metadata": {
        "colab": {
          "base_uri": "https://localhost:8080/",
          "height": 303
        },
        "id": "483250d8-486e-4046-9ebe-e73940f0f1f3",
        "outputId": "7d12b003-e410-49b8-fc19-36b5541b345a"
      },
      "outputs": [
        {
          "output_type": "execute_result",
          "data": {
            "text/plain": [
              "UN_Region\n",
              "Africa      55\n",
              "Asia        51\n",
              "Americas    48\n",
              "Europe      48\n",
              "Oceania     20\n",
              "World        1\n",
              "Name: count, dtype: int64"
            ],
            "text/html": [
              "<div>\n",
              "<style scoped>\n",
              "    .dataframe tbody tr th:only-of-type {\n",
              "        vertical-align: middle;\n",
              "    }\n",
              "\n",
              "    .dataframe tbody tr th {\n",
              "        vertical-align: top;\n",
              "    }\n",
              "\n",
              "    .dataframe thead th {\n",
              "        text-align: right;\n",
              "    }\n",
              "</style>\n",
              "<table border=\"1\" class=\"dataframe\">\n",
              "  <thead>\n",
              "    <tr style=\"text-align: right;\">\n",
              "      <th></th>\n",
              "      <th>count</th>\n",
              "    </tr>\n",
              "    <tr>\n",
              "      <th>UN_Region</th>\n",
              "      <th></th>\n",
              "    </tr>\n",
              "  </thead>\n",
              "  <tbody>\n",
              "    <tr>\n",
              "      <th>Africa</th>\n",
              "      <td>55</td>\n",
              "    </tr>\n",
              "    <tr>\n",
              "      <th>Asia</th>\n",
              "      <td>51</td>\n",
              "    </tr>\n",
              "    <tr>\n",
              "      <th>Americas</th>\n",
              "      <td>48</td>\n",
              "    </tr>\n",
              "    <tr>\n",
              "      <th>Europe</th>\n",
              "      <td>48</td>\n",
              "    </tr>\n",
              "    <tr>\n",
              "      <th>Oceania</th>\n",
              "      <td>20</td>\n",
              "    </tr>\n",
              "    <tr>\n",
              "      <th>World</th>\n",
              "      <td>1</td>\n",
              "    </tr>\n",
              "  </tbody>\n",
              "</table>\n",
              "</div><br><label><b>dtype:</b> int64</label>"
            ]
          },
          "metadata": {},
          "execution_count": 22
        }
      ],
      "source": [
        "# number of countries per region\n",
        "\n",
        "df[\"UN_Region\"].value_counts()"
      ]
    },
    {
      "cell_type": "code",
      "execution_count": null,
      "id": "b8f6f646-6aa8-4fda-863c-db4cfd87f903",
      "metadata": {
        "colab": {
          "base_uri": "https://localhost:8080/",
          "height": 73
        },
        "id": "b8f6f646-6aa8-4fda-863c-db4cfd87f903",
        "outputId": "d7c74e7f-801e-4478-d956-c68e603da341"
      },
      "outputs": [
        {
          "output_type": "execute_result",
          "data": {
            "text/plain": [
              "Empty DataFrame\n",
              "Columns: [Country/Territory, UN_Region, IMF_Estimate, IMF_Year, WorldBank_Estimate, WorldBank_Year, UN_Estimate, UN_Year]\n",
              "Index: []"
            ],
            "text/html": [
              "\n",
              "  <div id=\"df-44e0dac2-874e-4ac7-9e86-91ee9267bab0\" class=\"colab-df-container\">\n",
              "    <div>\n",
              "<style scoped>\n",
              "    .dataframe tbody tr th:only-of-type {\n",
              "        vertical-align: middle;\n",
              "    }\n",
              "\n",
              "    .dataframe tbody tr th {\n",
              "        vertical-align: top;\n",
              "    }\n",
              "\n",
              "    .dataframe thead th {\n",
              "        text-align: right;\n",
              "    }\n",
              "</style>\n",
              "<table border=\"1\" class=\"dataframe\">\n",
              "  <thead>\n",
              "    <tr style=\"text-align: right;\">\n",
              "      <th></th>\n",
              "      <th>Country/Territory</th>\n",
              "      <th>UN_Region</th>\n",
              "      <th>IMF_Estimate</th>\n",
              "      <th>IMF_Year</th>\n",
              "      <th>WorldBank_Estimate</th>\n",
              "      <th>WorldBank_Year</th>\n",
              "      <th>UN_Estimate</th>\n",
              "      <th>UN_Year</th>\n",
              "    </tr>\n",
              "  </thead>\n",
              "  <tbody>\n",
              "  </tbody>\n",
              "</table>\n",
              "</div>\n",
              "    <div class=\"colab-df-buttons\">\n",
              "\n",
              "  <div class=\"colab-df-container\">\n",
              "    <button class=\"colab-df-convert\" onclick=\"convertToInteractive('df-44e0dac2-874e-4ac7-9e86-91ee9267bab0')\"\n",
              "            title=\"Convert this dataframe to an interactive table.\"\n",
              "            style=\"display:none;\">\n",
              "\n",
              "  <svg xmlns=\"http://www.w3.org/2000/svg\" height=\"24px\" viewBox=\"0 -960 960 960\">\n",
              "    <path d=\"M120-120v-720h720v720H120Zm60-500h600v-160H180v160Zm220 220h160v-160H400v160Zm0 220h160v-160H400v160ZM180-400h160v-160H180v160Zm440 0h160v-160H620v160ZM180-180h160v-160H180v160Zm440 0h160v-160H620v160Z\"/>\n",
              "  </svg>\n",
              "    </button>\n",
              "\n",
              "  <style>\n",
              "    .colab-df-container {\n",
              "      display:flex;\n",
              "      gap: 12px;\n",
              "    }\n",
              "\n",
              "    .colab-df-convert {\n",
              "      background-color: #E8F0FE;\n",
              "      border: none;\n",
              "      border-radius: 50%;\n",
              "      cursor: pointer;\n",
              "      display: none;\n",
              "      fill: #1967D2;\n",
              "      height: 32px;\n",
              "      padding: 0 0 0 0;\n",
              "      width: 32px;\n",
              "    }\n",
              "\n",
              "    .colab-df-convert:hover {\n",
              "      background-color: #E2EBFA;\n",
              "      box-shadow: 0px 1px 2px rgba(60, 64, 67, 0.3), 0px 1px 3px 1px rgba(60, 64, 67, 0.15);\n",
              "      fill: #174EA6;\n",
              "    }\n",
              "\n",
              "    .colab-df-buttons div {\n",
              "      margin-bottom: 4px;\n",
              "    }\n",
              "\n",
              "    [theme=dark] .colab-df-convert {\n",
              "      background-color: #3B4455;\n",
              "      fill: #D2E3FC;\n",
              "    }\n",
              "\n",
              "    [theme=dark] .colab-df-convert:hover {\n",
              "      background-color: #434B5C;\n",
              "      box-shadow: 0px 1px 3px 1px rgba(0, 0, 0, 0.15);\n",
              "      filter: drop-shadow(0px 1px 2px rgba(0, 0, 0, 0.3));\n",
              "      fill: #FFFFFF;\n",
              "    }\n",
              "  </style>\n",
              "\n",
              "    <script>\n",
              "      const buttonEl =\n",
              "        document.querySelector('#df-44e0dac2-874e-4ac7-9e86-91ee9267bab0 button.colab-df-convert');\n",
              "      buttonEl.style.display =\n",
              "        google.colab.kernel.accessAllowed ? 'block' : 'none';\n",
              "\n",
              "      async function convertToInteractive(key) {\n",
              "        const element = document.querySelector('#df-44e0dac2-874e-4ac7-9e86-91ee9267bab0');\n",
              "        const dataTable =\n",
              "          await google.colab.kernel.invokeFunction('convertToInteractive',\n",
              "                                                    [key], {});\n",
              "        if (!dataTable) return;\n",
              "\n",
              "        const docLinkHtml = 'Like what you see? Visit the ' +\n",
              "          '<a target=\"_blank\" href=https://colab.research.google.com/notebooks/data_table.ipynb>data table notebook</a>'\n",
              "          + ' to learn more about interactive tables.';\n",
              "        element.innerHTML = '';\n",
              "        dataTable['output_type'] = 'display_data';\n",
              "        await google.colab.output.renderOutput(dataTable, element);\n",
              "        const docLink = document.createElement('div');\n",
              "        docLink.innerHTML = docLinkHtml;\n",
              "        element.appendChild(docLink);\n",
              "      }\n",
              "    </script>\n",
              "  </div>\n",
              "\n",
              "\n",
              "    </div>\n",
              "  </div>\n"
            ],
            "application/vnd.google.colaboratory.intrinsic+json": {
              "type": "dataframe",
              "repr_error": "Out of range float values are not JSON compliant: nan"
            }
          },
          "metadata": {},
          "execution_count": 42
        }
      ],
      "source": [
        "#What is European Union[n 1]?\n",
        "\n",
        "df[df[\"UN_Region\"]==\"European Union[n 1]\"]"
      ]
    },
    {
      "cell_type": "code",
      "execution_count": null,
      "id": "ca4a2e48-503d-4401-8d9f-6d5afb9373b5",
      "metadata": {
        "colab": {
          "base_uri": "https://localhost:8080/",
          "height": 619
        },
        "id": "ca4a2e48-503d-4401-8d9f-6d5afb9373b5",
        "outputId": "8f718733-3227-47cd-b07d-222085e87c17"
      },
      "outputs": [
        {
          "output_type": "execute_result",
          "data": {
            "text/plain": [
              "          Country/Territory UN_Region  IMF_Estimate  IMF_Year  \\\n",
              "9               Isle of Man    Europe             0         0   \n",
              "14          Channel Islands    Europe             0         0   \n",
              "15            Faroe Islands    Europe             0         0   \n",
              "70                  Croatia    Europe         20537      2023   \n",
              "72                   Poland    Europe         19912      2023   \n",
              "78                  Romania    Europe         18530      2023   \n",
              "87                 Bulgaria    Europe         14893      2023   \n",
              "90                   Russia    Europe         14403      2023   \n",
              "103              Montenegro    Europe         11289      2023   \n",
              "106                  Serbia    Europe         10849      2023   \n",
              "112  Bosnia and Herzegovina    Europe          8223      2023   \n",
              "115                 Belarus    Europe          7944      2023   \n",
              "118         North Macedonia    Europe          7384      2023   \n",
              "120                 Albania    Europe          7058      2023   \n",
              "127                 Moldova    Europe          6342      2023   \n",
              "133                  Kosovo    Europe          5641      2023   \n",
              "143                 Ukraine    Europe          4654      2023   \n",
              "\n",
              "     WorldBank_Estimate  WorldBank_Year  UN_Estimate UN_Year  \n",
              "9                 87158            2019            0       0  \n",
              "14                75153            2007            0       0  \n",
              "15                69010            2021            0       0  \n",
              "70                17685            2021        16983    2021  \n",
              "72                18000            2021        17736    2021  \n",
              "78                14858            2021        14698    2021  \n",
              "87                12222            2021        12207    2021  \n",
              "90                12195            2021        12259    2021  \n",
              "103                9466            2021         9252    2021  \n",
              "106                9230            2021         8643    2021  \n",
              "112                7143            2021         7143    2021  \n",
              "115                7302            2021         7121    2021  \n",
              "118                6695            2021         6600    2021  \n",
              "120                6493            2021         6396    2021  \n",
              "127                5231            2021         4468    2021  \n",
              "133                5270            2021         5663    2021  \n",
              "143                4836            2021         4596    2021  "
            ],
            "text/html": [
              "\n",
              "  <div id=\"df-42c3f31f-ec61-42b8-801d-6b8751d9f8bf\" class=\"colab-df-container\">\n",
              "    <div>\n",
              "<style scoped>\n",
              "    .dataframe tbody tr th:only-of-type {\n",
              "        vertical-align: middle;\n",
              "    }\n",
              "\n",
              "    .dataframe tbody tr th {\n",
              "        vertical-align: top;\n",
              "    }\n",
              "\n",
              "    .dataframe thead th {\n",
              "        text-align: right;\n",
              "    }\n",
              "</style>\n",
              "<table border=\"1\" class=\"dataframe\">\n",
              "  <thead>\n",
              "    <tr style=\"text-align: right;\">\n",
              "      <th></th>\n",
              "      <th>Country/Territory</th>\n",
              "      <th>UN_Region</th>\n",
              "      <th>IMF_Estimate</th>\n",
              "      <th>IMF_Year</th>\n",
              "      <th>WorldBank_Estimate</th>\n",
              "      <th>WorldBank_Year</th>\n",
              "      <th>UN_Estimate</th>\n",
              "      <th>UN_Year</th>\n",
              "    </tr>\n",
              "  </thead>\n",
              "  <tbody>\n",
              "    <tr>\n",
              "      <th>9</th>\n",
              "      <td>Isle of Man</td>\n",
              "      <td>Europe</td>\n",
              "      <td>0</td>\n",
              "      <td>0</td>\n",
              "      <td>87158</td>\n",
              "      <td>2019</td>\n",
              "      <td>0</td>\n",
              "      <td>0</td>\n",
              "    </tr>\n",
              "    <tr>\n",
              "      <th>14</th>\n",
              "      <td>Channel Islands</td>\n",
              "      <td>Europe</td>\n",
              "      <td>0</td>\n",
              "      <td>0</td>\n",
              "      <td>75153</td>\n",
              "      <td>2007</td>\n",
              "      <td>0</td>\n",
              "      <td>0</td>\n",
              "    </tr>\n",
              "    <tr>\n",
              "      <th>15</th>\n",
              "      <td>Faroe Islands</td>\n",
              "      <td>Europe</td>\n",
              "      <td>0</td>\n",
              "      <td>0</td>\n",
              "      <td>69010</td>\n",
              "      <td>2021</td>\n",
              "      <td>0</td>\n",
              "      <td>0</td>\n",
              "    </tr>\n",
              "    <tr>\n",
              "      <th>70</th>\n",
              "      <td>Croatia</td>\n",
              "      <td>Europe</td>\n",
              "      <td>20537</td>\n",
              "      <td>2023</td>\n",
              "      <td>17685</td>\n",
              "      <td>2021</td>\n",
              "      <td>16983</td>\n",
              "      <td>2021</td>\n",
              "    </tr>\n",
              "    <tr>\n",
              "      <th>72</th>\n",
              "      <td>Poland</td>\n",
              "      <td>Europe</td>\n",
              "      <td>19912</td>\n",
              "      <td>2023</td>\n",
              "      <td>18000</td>\n",
              "      <td>2021</td>\n",
              "      <td>17736</td>\n",
              "      <td>2021</td>\n",
              "    </tr>\n",
              "    <tr>\n",
              "      <th>78</th>\n",
              "      <td>Romania</td>\n",
              "      <td>Europe</td>\n",
              "      <td>18530</td>\n",
              "      <td>2023</td>\n",
              "      <td>14858</td>\n",
              "      <td>2021</td>\n",
              "      <td>14698</td>\n",
              "      <td>2021</td>\n",
              "    </tr>\n",
              "    <tr>\n",
              "      <th>87</th>\n",
              "      <td>Bulgaria</td>\n",
              "      <td>Europe</td>\n",
              "      <td>14893</td>\n",
              "      <td>2023</td>\n",
              "      <td>12222</td>\n",
              "      <td>2021</td>\n",
              "      <td>12207</td>\n",
              "      <td>2021</td>\n",
              "    </tr>\n",
              "    <tr>\n",
              "      <th>90</th>\n",
              "      <td>Russia</td>\n",
              "      <td>Europe</td>\n",
              "      <td>14403</td>\n",
              "      <td>2023</td>\n",
              "      <td>12195</td>\n",
              "      <td>2021</td>\n",
              "      <td>12259</td>\n",
              "      <td>2021</td>\n",
              "    </tr>\n",
              "    <tr>\n",
              "      <th>103</th>\n",
              "      <td>Montenegro</td>\n",
              "      <td>Europe</td>\n",
              "      <td>11289</td>\n",
              "      <td>2023</td>\n",
              "      <td>9466</td>\n",
              "      <td>2021</td>\n",
              "      <td>9252</td>\n",
              "      <td>2021</td>\n",
              "    </tr>\n",
              "    <tr>\n",
              "      <th>106</th>\n",
              "      <td>Serbia</td>\n",
              "      <td>Europe</td>\n",
              "      <td>10849</td>\n",
              "      <td>2023</td>\n",
              "      <td>9230</td>\n",
              "      <td>2021</td>\n",
              "      <td>8643</td>\n",
              "      <td>2021</td>\n",
              "    </tr>\n",
              "    <tr>\n",
              "      <th>112</th>\n",
              "      <td>Bosnia and Herzegovina</td>\n",
              "      <td>Europe</td>\n",
              "      <td>8223</td>\n",
              "      <td>2023</td>\n",
              "      <td>7143</td>\n",
              "      <td>2021</td>\n",
              "      <td>7143</td>\n",
              "      <td>2021</td>\n",
              "    </tr>\n",
              "    <tr>\n",
              "      <th>115</th>\n",
              "      <td>Belarus</td>\n",
              "      <td>Europe</td>\n",
              "      <td>7944</td>\n",
              "      <td>2023</td>\n",
              "      <td>7302</td>\n",
              "      <td>2021</td>\n",
              "      <td>7121</td>\n",
              "      <td>2021</td>\n",
              "    </tr>\n",
              "    <tr>\n",
              "      <th>118</th>\n",
              "      <td>North Macedonia</td>\n",
              "      <td>Europe</td>\n",
              "      <td>7384</td>\n",
              "      <td>2023</td>\n",
              "      <td>6695</td>\n",
              "      <td>2021</td>\n",
              "      <td>6600</td>\n",
              "      <td>2021</td>\n",
              "    </tr>\n",
              "    <tr>\n",
              "      <th>120</th>\n",
              "      <td>Albania</td>\n",
              "      <td>Europe</td>\n",
              "      <td>7058</td>\n",
              "      <td>2023</td>\n",
              "      <td>6493</td>\n",
              "      <td>2021</td>\n",
              "      <td>6396</td>\n",
              "      <td>2021</td>\n",
              "    </tr>\n",
              "    <tr>\n",
              "      <th>127</th>\n",
              "      <td>Moldova</td>\n",
              "      <td>Europe</td>\n",
              "      <td>6342</td>\n",
              "      <td>2023</td>\n",
              "      <td>5231</td>\n",
              "      <td>2021</td>\n",
              "      <td>4468</td>\n",
              "      <td>2021</td>\n",
              "    </tr>\n",
              "    <tr>\n",
              "      <th>133</th>\n",
              "      <td>Kosovo</td>\n",
              "      <td>Europe</td>\n",
              "      <td>5641</td>\n",
              "      <td>2023</td>\n",
              "      <td>5270</td>\n",
              "      <td>2021</td>\n",
              "      <td>5663</td>\n",
              "      <td>2021</td>\n",
              "    </tr>\n",
              "    <tr>\n",
              "      <th>143</th>\n",
              "      <td>Ukraine</td>\n",
              "      <td>Europe</td>\n",
              "      <td>4654</td>\n",
              "      <td>2023</td>\n",
              "      <td>4836</td>\n",
              "      <td>2021</td>\n",
              "      <td>4596</td>\n",
              "      <td>2021</td>\n",
              "    </tr>\n",
              "  </tbody>\n",
              "</table>\n",
              "</div>\n",
              "    <div class=\"colab-df-buttons\">\n",
              "\n",
              "  <div class=\"colab-df-container\">\n",
              "    <button class=\"colab-df-convert\" onclick=\"convertToInteractive('df-42c3f31f-ec61-42b8-801d-6b8751d9f8bf')\"\n",
              "            title=\"Convert this dataframe to an interactive table.\"\n",
              "            style=\"display:none;\">\n",
              "\n",
              "  <svg xmlns=\"http://www.w3.org/2000/svg\" height=\"24px\" viewBox=\"0 -960 960 960\">\n",
              "    <path d=\"M120-120v-720h720v720H120Zm60-500h600v-160H180v160Zm220 220h160v-160H400v160Zm0 220h160v-160H400v160ZM180-400h160v-160H180v160Zm440 0h160v-160H620v160ZM180-180h160v-160H180v160Zm440 0h160v-160H620v160Z\"/>\n",
              "  </svg>\n",
              "    </button>\n",
              "\n",
              "  <style>\n",
              "    .colab-df-container {\n",
              "      display:flex;\n",
              "      gap: 12px;\n",
              "    }\n",
              "\n",
              "    .colab-df-convert {\n",
              "      background-color: #E8F0FE;\n",
              "      border: none;\n",
              "      border-radius: 50%;\n",
              "      cursor: pointer;\n",
              "      display: none;\n",
              "      fill: #1967D2;\n",
              "      height: 32px;\n",
              "      padding: 0 0 0 0;\n",
              "      width: 32px;\n",
              "    }\n",
              "\n",
              "    .colab-df-convert:hover {\n",
              "      background-color: #E2EBFA;\n",
              "      box-shadow: 0px 1px 2px rgba(60, 64, 67, 0.3), 0px 1px 3px 1px rgba(60, 64, 67, 0.15);\n",
              "      fill: #174EA6;\n",
              "    }\n",
              "\n",
              "    .colab-df-buttons div {\n",
              "      margin-bottom: 4px;\n",
              "    }\n",
              "\n",
              "    [theme=dark] .colab-df-convert {\n",
              "      background-color: #3B4455;\n",
              "      fill: #D2E3FC;\n",
              "    }\n",
              "\n",
              "    [theme=dark] .colab-df-convert:hover {\n",
              "      background-color: #434B5C;\n",
              "      box-shadow: 0px 1px 3px 1px rgba(0, 0, 0, 0.15);\n",
              "      filter: drop-shadow(0px 1px 2px rgba(0, 0, 0, 0.3));\n",
              "      fill: #FFFFFF;\n",
              "    }\n",
              "  </style>\n",
              "\n",
              "    <script>\n",
              "      const buttonEl =\n",
              "        document.querySelector('#df-42c3f31f-ec61-42b8-801d-6b8751d9f8bf button.colab-df-convert');\n",
              "      buttonEl.style.display =\n",
              "        google.colab.kernel.accessAllowed ? 'block' : 'none';\n",
              "\n",
              "      async function convertToInteractive(key) {\n",
              "        const element = document.querySelector('#df-42c3f31f-ec61-42b8-801d-6b8751d9f8bf');\n",
              "        const dataTable =\n",
              "          await google.colab.kernel.invokeFunction('convertToInteractive',\n",
              "                                                    [key], {});\n",
              "        if (!dataTable) return;\n",
              "\n",
              "        const docLinkHtml = 'Like what you see? Visit the ' +\n",
              "          '<a target=\"_blank\" href=https://colab.research.google.com/notebooks/data_table.ipynb>data table notebook</a>'\n",
              "          + ' to learn more about interactive tables.';\n",
              "        element.innerHTML = '';\n",
              "        dataTable['output_type'] = 'display_data';\n",
              "        await google.colab.output.renderOutput(dataTable, element);\n",
              "        const docLink = document.createElement('div');\n",
              "        docLink.innerHTML = docLinkHtml;\n",
              "        element.appendChild(docLink);\n",
              "      }\n",
              "    </script>\n",
              "  </div>\n",
              "\n",
              "\n",
              "<div id=\"df-4dbfddab-2512-41fc-b251-45136af82fa1\">\n",
              "  <button class=\"colab-df-quickchart\" onclick=\"quickchart('df-4dbfddab-2512-41fc-b251-45136af82fa1')\"\n",
              "            title=\"Suggest charts\"\n",
              "            style=\"display:none;\">\n",
              "\n",
              "<svg xmlns=\"http://www.w3.org/2000/svg\" height=\"24px\"viewBox=\"0 0 24 24\"\n",
              "     width=\"24px\">\n",
              "    <g>\n",
              "        <path d=\"M19 3H5c-1.1 0-2 .9-2 2v14c0 1.1.9 2 2 2h14c1.1 0 2-.9 2-2V5c0-1.1-.9-2-2-2zM9 17H7v-7h2v7zm4 0h-2V7h2v10zm4 0h-2v-4h2v4z\"/>\n",
              "    </g>\n",
              "</svg>\n",
              "  </button>\n",
              "\n",
              "<style>\n",
              "  .colab-df-quickchart {\n",
              "      --bg-color: #E8F0FE;\n",
              "      --fill-color: #1967D2;\n",
              "      --hover-bg-color: #E2EBFA;\n",
              "      --hover-fill-color: #174EA6;\n",
              "      --disabled-fill-color: #AAA;\n",
              "      --disabled-bg-color: #DDD;\n",
              "  }\n",
              "\n",
              "  [theme=dark] .colab-df-quickchart {\n",
              "      --bg-color: #3B4455;\n",
              "      --fill-color: #D2E3FC;\n",
              "      --hover-bg-color: #434B5C;\n",
              "      --hover-fill-color: #FFFFFF;\n",
              "      --disabled-bg-color: #3B4455;\n",
              "      --disabled-fill-color: #666;\n",
              "  }\n",
              "\n",
              "  .colab-df-quickchart {\n",
              "    background-color: var(--bg-color);\n",
              "    border: none;\n",
              "    border-radius: 50%;\n",
              "    cursor: pointer;\n",
              "    display: none;\n",
              "    fill: var(--fill-color);\n",
              "    height: 32px;\n",
              "    padding: 0;\n",
              "    width: 32px;\n",
              "  }\n",
              "\n",
              "  .colab-df-quickchart:hover {\n",
              "    background-color: var(--hover-bg-color);\n",
              "    box-shadow: 0 1px 2px rgba(60, 64, 67, 0.3), 0 1px 3px 1px rgba(60, 64, 67, 0.15);\n",
              "    fill: var(--button-hover-fill-color);\n",
              "  }\n",
              "\n",
              "  .colab-df-quickchart-complete:disabled,\n",
              "  .colab-df-quickchart-complete:disabled:hover {\n",
              "    background-color: var(--disabled-bg-color);\n",
              "    fill: var(--disabled-fill-color);\n",
              "    box-shadow: none;\n",
              "  }\n",
              "\n",
              "  .colab-df-spinner {\n",
              "    border: 2px solid var(--fill-color);\n",
              "    border-color: transparent;\n",
              "    border-bottom-color: var(--fill-color);\n",
              "    animation:\n",
              "      spin 1s steps(1) infinite;\n",
              "  }\n",
              "\n",
              "  @keyframes spin {\n",
              "    0% {\n",
              "      border-color: transparent;\n",
              "      border-bottom-color: var(--fill-color);\n",
              "      border-left-color: var(--fill-color);\n",
              "    }\n",
              "    20% {\n",
              "      border-color: transparent;\n",
              "      border-left-color: var(--fill-color);\n",
              "      border-top-color: var(--fill-color);\n",
              "    }\n",
              "    30% {\n",
              "      border-color: transparent;\n",
              "      border-left-color: var(--fill-color);\n",
              "      border-top-color: var(--fill-color);\n",
              "      border-right-color: var(--fill-color);\n",
              "    }\n",
              "    40% {\n",
              "      border-color: transparent;\n",
              "      border-right-color: var(--fill-color);\n",
              "      border-top-color: var(--fill-color);\n",
              "    }\n",
              "    60% {\n",
              "      border-color: transparent;\n",
              "      border-right-color: var(--fill-color);\n",
              "    }\n",
              "    80% {\n",
              "      border-color: transparent;\n",
              "      border-right-color: var(--fill-color);\n",
              "      border-bottom-color: var(--fill-color);\n",
              "    }\n",
              "    90% {\n",
              "      border-color: transparent;\n",
              "      border-bottom-color: var(--fill-color);\n",
              "    }\n",
              "  }\n",
              "</style>\n",
              "\n",
              "  <script>\n",
              "    async function quickchart(key) {\n",
              "      const quickchartButtonEl =\n",
              "        document.querySelector('#' + key + ' button');\n",
              "      quickchartButtonEl.disabled = true;  // To prevent multiple clicks.\n",
              "      quickchartButtonEl.classList.add('colab-df-spinner');\n",
              "      try {\n",
              "        const charts = await google.colab.kernel.invokeFunction(\n",
              "            'suggestCharts', [key], {});\n",
              "      } catch (error) {\n",
              "        console.error('Error during call to suggestCharts:', error);\n",
              "      }\n",
              "      quickchartButtonEl.classList.remove('colab-df-spinner');\n",
              "      quickchartButtonEl.classList.add('colab-df-quickchart-complete');\n",
              "    }\n",
              "    (() => {\n",
              "      let quickchartButtonEl =\n",
              "        document.querySelector('#df-4dbfddab-2512-41fc-b251-45136af82fa1 button');\n",
              "      quickchartButtonEl.style.display =\n",
              "        google.colab.kernel.accessAllowed ? 'block' : 'none';\n",
              "    })();\n",
              "  </script>\n",
              "</div>\n",
              "\n",
              "    </div>\n",
              "  </div>\n"
            ],
            "application/vnd.google.colaboratory.intrinsic+json": {
              "type": "dataframe",
              "summary": "{\n  \"name\": \"df[(df[\\\"UN_Region\\\"]==\\\"Europe\\\") & (df[\\\"UN_Estimate\\\"]<df[\\\"UN_Estimate\\\"]\",\n  \"rows\": 17,\n  \"fields\": [\n    {\n      \"column\": \"Country/Territory\",\n      \"properties\": {\n        \"dtype\": \"string\",\n        \"num_unique_values\": 17,\n        \"samples\": [\n          \"Isle of Man\",\n          \"Channel Islands\",\n          \"Romania\"\n        ],\n        \"semantic_type\": \"\",\n        \"description\": \"\"\n      }\n    },\n    {\n      \"column\": \"UN_Region\",\n      \"properties\": {\n        \"dtype\": \"category\",\n        \"num_unique_values\": 1,\n        \"samples\": [\n          \"Europe\"\n        ],\n        \"semantic_type\": \"\",\n        \"description\": \"\"\n      }\n    },\n    {\n      \"column\": \"IMF_Estimate\",\n      \"properties\": {\n        \"dtype\": \"number\",\n        \"std\": 6626,\n        \"min\": 0,\n        \"max\": 20537,\n        \"num_unique_values\": 15,\n        \"samples\": [\n          7944\n        ],\n        \"semantic_type\": \"\",\n        \"description\": \"\"\n      }\n    },\n    {\n      \"column\": \"IMF_Year\",\n      \"properties\": {\n        \"dtype\": \"number\",\n        \"std\": 794,\n        \"min\": 0,\n        \"max\": 2023,\n        \"num_unique_values\": 2,\n        \"samples\": [\n          2023\n        ],\n        \"semantic_type\": \"\",\n        \"description\": \"\"\n      }\n    },\n    {\n      \"column\": \"WorldBank_Estimate\",\n      \"properties\": {\n        \"dtype\": \"number\",\n        \"std\": 26976,\n        \"min\": 4836,\n        \"max\": 87158,\n        \"num_unique_values\": 17,\n        \"samples\": [\n          87158\n        ],\n        \"semantic_type\": \"\",\n        \"description\": \"\"\n      }\n    },\n    {\n      \"column\": \"WorldBank_Year\",\n      \"properties\": {\n        \"dtype\": \"number\",\n        \"std\": 3,\n        \"min\": 2007,\n        \"max\": 2021,\n        \"num_unique_values\": 3,\n        \"samples\": [\n          2019\n        ],\n        \"semantic_type\": \"\",\n        \"description\": \"\"\n      }\n    },\n    {\n      \"column\": \"UN_Estimate\",\n      \"properties\": {\n        \"dtype\": \"number\",\n        \"std\": 5508,\n        \"min\": 0,\n        \"max\": 17736,\n        \"num_unique_values\": 15,\n        \"samples\": [\n          7121\n        ],\n        \"semantic_type\": \"\",\n        \"description\": \"\"\n      }\n    },\n    {\n      \"column\": \"UN_Year\",\n      \"properties\": {\n        \"dtype\": \"category\",\n        \"num_unique_values\": 2,\n        \"samples\": [\n          \"2021\"\n        ],\n        \"semantic_type\": \"\",\n        \"description\": \"\"\n      }\n    }\n  ]\n}"
            }
          },
          "metadata": {},
          "execution_count": 48
        }
      ],
      "source": [
        "# Countries in Europe below avarege\n",
        "\n",
        "df[(df[\"UN_Region\"]==\"Europe\") & (df[\"UN_Estimate\"]<df[\"UN_Estimate\"].mean())]\n",
        "\n",
        "\n"
      ]
    },
    {
      "cell_type": "code",
      "execution_count": null,
      "id": "4cd0a1c1-8500-4d05-8560-7fa61309dfa7",
      "metadata": {
        "colab": {
          "base_uri": "https://localhost:8080/"
        },
        "id": "4cd0a1c1-8500-4d05-8560-7fa61309dfa7",
        "outputId": "ab65b098-2010-45fc-b7f8-bcb6c54d8ad2"
      },
      "outputs": [
        {
          "output_type": "stream",
          "name": "stdout",
          "text": [
            "<class 'pandas.core.frame.DataFrame'>\n",
            "Index: 223 entries, 1 to 223\n",
            "Data columns (total 8 columns):\n",
            " #   Column              Non-Null Count  Dtype \n",
            "---  ------              --------------  ----- \n",
            " 0   Country/Territory   223 non-null    object\n",
            " 1   UN_Region           223 non-null    object\n",
            " 2   IMF_Estimate        223 non-null    int64 \n",
            " 3   IMF_Year            223 non-null    int64 \n",
            " 4   WorldBank_Estimate  223 non-null    int64 \n",
            " 5   WorldBank_Year      223 non-null    int64 \n",
            " 6   UN_Estimate         223 non-null    int64 \n",
            " 7   UN_Year             223 non-null    object\n",
            "dtypes: int64(5), object(3)\n",
            "memory usage: 15.7+ KB\n"
          ]
        }
      ],
      "source": [
        "## Which countries in Europe has higher GDP than UK?\n",
        "\n"
      ]
    },
    {
      "cell_type": "markdown",
      "id": "4b4f060e-3352-4e53-8f07-42131e363ed5",
      "metadata": {
        "jp-MarkdownHeadingCollapsed": true,
        "id": "4b4f060e-3352-4e53-8f07-42131e363ed5"
      },
      "source": [
        "## Filling 0 Values by average"
      ]
    },
    {
      "cell_type": "code",
      "execution_count": null,
      "id": "66070730-be45-4c5b-b508-92113f9ab826",
      "metadata": {
        "id": "66070730-be45-4c5b-b508-92113f9ab826"
      },
      "outputs": [],
      "source": [
        "import numpy as np"
      ]
    },
    {
      "cell_type": "code",
      "execution_count": null,
      "id": "48b3f09e-8c51-43d5-ac74-4c33042a2300",
      "metadata": {
        "colab": {
          "base_uri": "https://localhost:8080/",
          "height": 443
        },
        "id": "48b3f09e-8c51-43d5-ac74-4c33042a2300",
        "outputId": "6a8026d4-63f8-4aad-b992-9b3aaba4f6a7"
      },
      "outputs": [
        {
          "output_type": "execute_result",
          "data": {
            "text/plain": [
              "    Country/Territory UN_Region  IMF_Estimate  IMF_Year  WorldBank_Estimate  \\\n",
              "1              Monaco    Europe           NaN         0              234316   \n",
              "2       Liechtenstein    Europe           NaN         0              157755   \n",
              "3          Luxembourg    Europe      132372.0      2023              133590   \n",
              "4             Ireland    Europe      114581.0      2023              100172   \n",
              "5             Bermuda  Americas           NaN         0              114090   \n",
              "..                ...       ...           ...       ...                 ...   \n",
              "219            Malawi    Africa         496.0      2023                 635   \n",
              "220       South Sudan    Africa         467.0      2023                1072   \n",
              "221      Sierra Leone    Africa         415.0      2023                 480   \n",
              "222       Afghanistan      Asia         611.0      2020                 369   \n",
              "223           Burundi    Africa         249.0      2023                 222   \n",
              "\n",
              "     WorldBank_Year  UN_Estimate UN_Year  \n",
              "1              2021       234317    2021  \n",
              "2              2020       169260    2021  \n",
              "3              2021       133745    2021  \n",
              "4              2021       101109    2021  \n",
              "5              2021       112653    2021  \n",
              "..              ...          ...     ...  \n",
              "219            2021          613    2021  \n",
              "220            2015          400    2021  \n",
              "221            2021          505    2021  \n",
              "222            2021          373    2021  \n",
              "223            2021          311    2021  \n",
              "\n",
              "[223 rows x 8 columns]"
            ],
            "text/html": [
              "\n",
              "  <div id=\"df-c364ee7c-15a2-4c42-ba49-3e3f407ff349\" class=\"colab-df-container\">\n",
              "    <div>\n",
              "<style scoped>\n",
              "    .dataframe tbody tr th:only-of-type {\n",
              "        vertical-align: middle;\n",
              "    }\n",
              "\n",
              "    .dataframe tbody tr th {\n",
              "        vertical-align: top;\n",
              "    }\n",
              "\n",
              "    .dataframe thead th {\n",
              "        text-align: right;\n",
              "    }\n",
              "</style>\n",
              "<table border=\"1\" class=\"dataframe\">\n",
              "  <thead>\n",
              "    <tr style=\"text-align: right;\">\n",
              "      <th></th>\n",
              "      <th>Country/Territory</th>\n",
              "      <th>UN_Region</th>\n",
              "      <th>IMF_Estimate</th>\n",
              "      <th>IMF_Year</th>\n",
              "      <th>WorldBank_Estimate</th>\n",
              "      <th>WorldBank_Year</th>\n",
              "      <th>UN_Estimate</th>\n",
              "      <th>UN_Year</th>\n",
              "    </tr>\n",
              "  </thead>\n",
              "  <tbody>\n",
              "    <tr>\n",
              "      <th>1</th>\n",
              "      <td>Monaco</td>\n",
              "      <td>Europe</td>\n",
              "      <td>NaN</td>\n",
              "      <td>0</td>\n",
              "      <td>234316</td>\n",
              "      <td>2021</td>\n",
              "      <td>234317</td>\n",
              "      <td>2021</td>\n",
              "    </tr>\n",
              "    <tr>\n",
              "      <th>2</th>\n",
              "      <td>Liechtenstein</td>\n",
              "      <td>Europe</td>\n",
              "      <td>NaN</td>\n",
              "      <td>0</td>\n",
              "      <td>157755</td>\n",
              "      <td>2020</td>\n",
              "      <td>169260</td>\n",
              "      <td>2021</td>\n",
              "    </tr>\n",
              "    <tr>\n",
              "      <th>3</th>\n",
              "      <td>Luxembourg</td>\n",
              "      <td>Europe</td>\n",
              "      <td>132372.0</td>\n",
              "      <td>2023</td>\n",
              "      <td>133590</td>\n",
              "      <td>2021</td>\n",
              "      <td>133745</td>\n",
              "      <td>2021</td>\n",
              "    </tr>\n",
              "    <tr>\n",
              "      <th>4</th>\n",
              "      <td>Ireland</td>\n",
              "      <td>Europe</td>\n",
              "      <td>114581.0</td>\n",
              "      <td>2023</td>\n",
              "      <td>100172</td>\n",
              "      <td>2021</td>\n",
              "      <td>101109</td>\n",
              "      <td>2021</td>\n",
              "    </tr>\n",
              "    <tr>\n",
              "      <th>5</th>\n",
              "      <td>Bermuda</td>\n",
              "      <td>Americas</td>\n",
              "      <td>NaN</td>\n",
              "      <td>0</td>\n",
              "      <td>114090</td>\n",
              "      <td>2021</td>\n",
              "      <td>112653</td>\n",
              "      <td>2021</td>\n",
              "    </tr>\n",
              "    <tr>\n",
              "      <th>...</th>\n",
              "      <td>...</td>\n",
              "      <td>...</td>\n",
              "      <td>...</td>\n",
              "      <td>...</td>\n",
              "      <td>...</td>\n",
              "      <td>...</td>\n",
              "      <td>...</td>\n",
              "      <td>...</td>\n",
              "    </tr>\n",
              "    <tr>\n",
              "      <th>219</th>\n",
              "      <td>Malawi</td>\n",
              "      <td>Africa</td>\n",
              "      <td>496.0</td>\n",
              "      <td>2023</td>\n",
              "      <td>635</td>\n",
              "      <td>2021</td>\n",
              "      <td>613</td>\n",
              "      <td>2021</td>\n",
              "    </tr>\n",
              "    <tr>\n",
              "      <th>220</th>\n",
              "      <td>South Sudan</td>\n",
              "      <td>Africa</td>\n",
              "      <td>467.0</td>\n",
              "      <td>2023</td>\n",
              "      <td>1072</td>\n",
              "      <td>2015</td>\n",
              "      <td>400</td>\n",
              "      <td>2021</td>\n",
              "    </tr>\n",
              "    <tr>\n",
              "      <th>221</th>\n",
              "      <td>Sierra Leone</td>\n",
              "      <td>Africa</td>\n",
              "      <td>415.0</td>\n",
              "      <td>2023</td>\n",
              "      <td>480</td>\n",
              "      <td>2021</td>\n",
              "      <td>505</td>\n",
              "      <td>2021</td>\n",
              "    </tr>\n",
              "    <tr>\n",
              "      <th>222</th>\n",
              "      <td>Afghanistan</td>\n",
              "      <td>Asia</td>\n",
              "      <td>611.0</td>\n",
              "      <td>2020</td>\n",
              "      <td>369</td>\n",
              "      <td>2021</td>\n",
              "      <td>373</td>\n",
              "      <td>2021</td>\n",
              "    </tr>\n",
              "    <tr>\n",
              "      <th>223</th>\n",
              "      <td>Burundi</td>\n",
              "      <td>Africa</td>\n",
              "      <td>249.0</td>\n",
              "      <td>2023</td>\n",
              "      <td>222</td>\n",
              "      <td>2021</td>\n",
              "      <td>311</td>\n",
              "      <td>2021</td>\n",
              "    </tr>\n",
              "  </tbody>\n",
              "</table>\n",
              "<p>223 rows × 8 columns</p>\n",
              "</div>\n",
              "    <div class=\"colab-df-buttons\">\n",
              "\n",
              "  <div class=\"colab-df-container\">\n",
              "    <button class=\"colab-df-convert\" onclick=\"convertToInteractive('df-c364ee7c-15a2-4c42-ba49-3e3f407ff349')\"\n",
              "            title=\"Convert this dataframe to an interactive table.\"\n",
              "            style=\"display:none;\">\n",
              "\n",
              "  <svg xmlns=\"http://www.w3.org/2000/svg\" height=\"24px\" viewBox=\"0 -960 960 960\">\n",
              "    <path d=\"M120-120v-720h720v720H120Zm60-500h600v-160H180v160Zm220 220h160v-160H400v160Zm0 220h160v-160H400v160ZM180-400h160v-160H180v160Zm440 0h160v-160H620v160ZM180-180h160v-160H180v160Zm440 0h160v-160H620v160Z\"/>\n",
              "  </svg>\n",
              "    </button>\n",
              "\n",
              "  <style>\n",
              "    .colab-df-container {\n",
              "      display:flex;\n",
              "      gap: 12px;\n",
              "    }\n",
              "\n",
              "    .colab-df-convert {\n",
              "      background-color: #E8F0FE;\n",
              "      border: none;\n",
              "      border-radius: 50%;\n",
              "      cursor: pointer;\n",
              "      display: none;\n",
              "      fill: #1967D2;\n",
              "      height: 32px;\n",
              "      padding: 0 0 0 0;\n",
              "      width: 32px;\n",
              "    }\n",
              "\n",
              "    .colab-df-convert:hover {\n",
              "      background-color: #E2EBFA;\n",
              "      box-shadow: 0px 1px 2px rgba(60, 64, 67, 0.3), 0px 1px 3px 1px rgba(60, 64, 67, 0.15);\n",
              "      fill: #174EA6;\n",
              "    }\n",
              "\n",
              "    .colab-df-buttons div {\n",
              "      margin-bottom: 4px;\n",
              "    }\n",
              "\n",
              "    [theme=dark] .colab-df-convert {\n",
              "      background-color: #3B4455;\n",
              "      fill: #D2E3FC;\n",
              "    }\n",
              "\n",
              "    [theme=dark] .colab-df-convert:hover {\n",
              "      background-color: #434B5C;\n",
              "      box-shadow: 0px 1px 3px 1px rgba(0, 0, 0, 0.15);\n",
              "      filter: drop-shadow(0px 1px 2px rgba(0, 0, 0, 0.3));\n",
              "      fill: #FFFFFF;\n",
              "    }\n",
              "  </style>\n",
              "\n",
              "    <script>\n",
              "      const buttonEl =\n",
              "        document.querySelector('#df-c364ee7c-15a2-4c42-ba49-3e3f407ff349 button.colab-df-convert');\n",
              "      buttonEl.style.display =\n",
              "        google.colab.kernel.accessAllowed ? 'block' : 'none';\n",
              "\n",
              "      async function convertToInteractive(key) {\n",
              "        const element = document.querySelector('#df-c364ee7c-15a2-4c42-ba49-3e3f407ff349');\n",
              "        const dataTable =\n",
              "          await google.colab.kernel.invokeFunction('convertToInteractive',\n",
              "                                                    [key], {});\n",
              "        if (!dataTable) return;\n",
              "\n",
              "        const docLinkHtml = 'Like what you see? Visit the ' +\n",
              "          '<a target=\"_blank\" href=https://colab.research.google.com/notebooks/data_table.ipynb>data table notebook</a>'\n",
              "          + ' to learn more about interactive tables.';\n",
              "        element.innerHTML = '';\n",
              "        dataTable['output_type'] = 'display_data';\n",
              "        await google.colab.output.renderOutput(dataTable, element);\n",
              "        const docLink = document.createElement('div');\n",
              "        docLink.innerHTML = docLinkHtml;\n",
              "        element.appendChild(docLink);\n",
              "      }\n",
              "    </script>\n",
              "  </div>\n",
              "\n",
              "\n",
              "<div id=\"df-87b4b9e1-3330-4b9a-8d36-4a023d4818cc\">\n",
              "  <button class=\"colab-df-quickchart\" onclick=\"quickchart('df-87b4b9e1-3330-4b9a-8d36-4a023d4818cc')\"\n",
              "            title=\"Suggest charts\"\n",
              "            style=\"display:none;\">\n",
              "\n",
              "<svg xmlns=\"http://www.w3.org/2000/svg\" height=\"24px\"viewBox=\"0 0 24 24\"\n",
              "     width=\"24px\">\n",
              "    <g>\n",
              "        <path d=\"M19 3H5c-1.1 0-2 .9-2 2v14c0 1.1.9 2 2 2h14c1.1 0 2-.9 2-2V5c0-1.1-.9-2-2-2zM9 17H7v-7h2v7zm4 0h-2V7h2v10zm4 0h-2v-4h2v4z\"/>\n",
              "    </g>\n",
              "</svg>\n",
              "  </button>\n",
              "\n",
              "<style>\n",
              "  .colab-df-quickchart {\n",
              "      --bg-color: #E8F0FE;\n",
              "      --fill-color: #1967D2;\n",
              "      --hover-bg-color: #E2EBFA;\n",
              "      --hover-fill-color: #174EA6;\n",
              "      --disabled-fill-color: #AAA;\n",
              "      --disabled-bg-color: #DDD;\n",
              "  }\n",
              "\n",
              "  [theme=dark] .colab-df-quickchart {\n",
              "      --bg-color: #3B4455;\n",
              "      --fill-color: #D2E3FC;\n",
              "      --hover-bg-color: #434B5C;\n",
              "      --hover-fill-color: #FFFFFF;\n",
              "      --disabled-bg-color: #3B4455;\n",
              "      --disabled-fill-color: #666;\n",
              "  }\n",
              "\n",
              "  .colab-df-quickchart {\n",
              "    background-color: var(--bg-color);\n",
              "    border: none;\n",
              "    border-radius: 50%;\n",
              "    cursor: pointer;\n",
              "    display: none;\n",
              "    fill: var(--fill-color);\n",
              "    height: 32px;\n",
              "    padding: 0;\n",
              "    width: 32px;\n",
              "  }\n",
              "\n",
              "  .colab-df-quickchart:hover {\n",
              "    background-color: var(--hover-bg-color);\n",
              "    box-shadow: 0 1px 2px rgba(60, 64, 67, 0.3), 0 1px 3px 1px rgba(60, 64, 67, 0.15);\n",
              "    fill: var(--button-hover-fill-color);\n",
              "  }\n",
              "\n",
              "  .colab-df-quickchart-complete:disabled,\n",
              "  .colab-df-quickchart-complete:disabled:hover {\n",
              "    background-color: var(--disabled-bg-color);\n",
              "    fill: var(--disabled-fill-color);\n",
              "    box-shadow: none;\n",
              "  }\n",
              "\n",
              "  .colab-df-spinner {\n",
              "    border: 2px solid var(--fill-color);\n",
              "    border-color: transparent;\n",
              "    border-bottom-color: var(--fill-color);\n",
              "    animation:\n",
              "      spin 1s steps(1) infinite;\n",
              "  }\n",
              "\n",
              "  @keyframes spin {\n",
              "    0% {\n",
              "      border-color: transparent;\n",
              "      border-bottom-color: var(--fill-color);\n",
              "      border-left-color: var(--fill-color);\n",
              "    }\n",
              "    20% {\n",
              "      border-color: transparent;\n",
              "      border-left-color: var(--fill-color);\n",
              "      border-top-color: var(--fill-color);\n",
              "    }\n",
              "    30% {\n",
              "      border-color: transparent;\n",
              "      border-left-color: var(--fill-color);\n",
              "      border-top-color: var(--fill-color);\n",
              "      border-right-color: var(--fill-color);\n",
              "    }\n",
              "    40% {\n",
              "      border-color: transparent;\n",
              "      border-right-color: var(--fill-color);\n",
              "      border-top-color: var(--fill-color);\n",
              "    }\n",
              "    60% {\n",
              "      border-color: transparent;\n",
              "      border-right-color: var(--fill-color);\n",
              "    }\n",
              "    80% {\n",
              "      border-color: transparent;\n",
              "      border-right-color: var(--fill-color);\n",
              "      border-bottom-color: var(--fill-color);\n",
              "    }\n",
              "    90% {\n",
              "      border-color: transparent;\n",
              "      border-bottom-color: var(--fill-color);\n",
              "    }\n",
              "  }\n",
              "</style>\n",
              "\n",
              "  <script>\n",
              "    async function quickchart(key) {\n",
              "      const quickchartButtonEl =\n",
              "        document.querySelector('#' + key + ' button');\n",
              "      quickchartButtonEl.disabled = true;  // To prevent multiple clicks.\n",
              "      quickchartButtonEl.classList.add('colab-df-spinner');\n",
              "      try {\n",
              "        const charts = await google.colab.kernel.invokeFunction(\n",
              "            'suggestCharts', [key], {});\n",
              "      } catch (error) {\n",
              "        console.error('Error during call to suggestCharts:', error);\n",
              "      }\n",
              "      quickchartButtonEl.classList.remove('colab-df-spinner');\n",
              "      quickchartButtonEl.classList.add('colab-df-quickchart-complete');\n",
              "    }\n",
              "    (() => {\n",
              "      let quickchartButtonEl =\n",
              "        document.querySelector('#df-87b4b9e1-3330-4b9a-8d36-4a023d4818cc button');\n",
              "      quickchartButtonEl.style.display =\n",
              "        google.colab.kernel.accessAllowed ? 'block' : 'none';\n",
              "    })();\n",
              "  </script>\n",
              "</div>\n",
              "\n",
              "  <div id=\"id_a90a3050-83f1-4e7e-82bc-03cef93bd9a9\">\n",
              "    <style>\n",
              "      .colab-df-generate {\n",
              "        background-color: #E8F0FE;\n",
              "        border: none;\n",
              "        border-radius: 50%;\n",
              "        cursor: pointer;\n",
              "        display: none;\n",
              "        fill: #1967D2;\n",
              "        height: 32px;\n",
              "        padding: 0 0 0 0;\n",
              "        width: 32px;\n",
              "      }\n",
              "\n",
              "      .colab-df-generate:hover {\n",
              "        background-color: #E2EBFA;\n",
              "        box-shadow: 0px 1px 2px rgba(60, 64, 67, 0.3), 0px 1px 3px 1px rgba(60, 64, 67, 0.15);\n",
              "        fill: #174EA6;\n",
              "      }\n",
              "\n",
              "      [theme=dark] .colab-df-generate {\n",
              "        background-color: #3B4455;\n",
              "        fill: #D2E3FC;\n",
              "      }\n",
              "\n",
              "      [theme=dark] .colab-df-generate:hover {\n",
              "        background-color: #434B5C;\n",
              "        box-shadow: 0px 1px 3px 1px rgba(0, 0, 0, 0.15);\n",
              "        filter: drop-shadow(0px 1px 2px rgba(0, 0, 0, 0.3));\n",
              "        fill: #FFFFFF;\n",
              "      }\n",
              "    </style>\n",
              "    <button class=\"colab-df-generate\" onclick=\"generateWithVariable('df')\"\n",
              "            title=\"Generate code using this dataframe.\"\n",
              "            style=\"display:none;\">\n",
              "\n",
              "  <svg xmlns=\"http://www.w3.org/2000/svg\" height=\"24px\"viewBox=\"0 0 24 24\"\n",
              "       width=\"24px\">\n",
              "    <path d=\"M7,19H8.4L18.45,9,17,7.55,7,17.6ZM5,21V16.75L18.45,3.32a2,2,0,0,1,2.83,0l1.4,1.43a1.91,1.91,0,0,1,.58,1.4,1.91,1.91,0,0,1-.58,1.4L9.25,21ZM18.45,9,17,7.55Zm-12,3A5.31,5.31,0,0,0,4.9,8.1,5.31,5.31,0,0,0,1,6.5,5.31,5.31,0,0,0,4.9,4.9,5.31,5.31,0,0,0,6.5,1,5.31,5.31,0,0,0,8.1,4.9,5.31,5.31,0,0,0,12,6.5,5.46,5.46,0,0,0,6.5,12Z\"/>\n",
              "  </svg>\n",
              "    </button>\n",
              "    <script>\n",
              "      (() => {\n",
              "      const buttonEl =\n",
              "        document.querySelector('#id_a90a3050-83f1-4e7e-82bc-03cef93bd9a9 button.colab-df-generate');\n",
              "      buttonEl.style.display =\n",
              "        google.colab.kernel.accessAllowed ? 'block' : 'none';\n",
              "\n",
              "      buttonEl.onclick = () => {\n",
              "        google.colab.notebook.generateWithVariable('df');\n",
              "      }\n",
              "      })();\n",
              "    </script>\n",
              "  </div>\n",
              "\n",
              "    </div>\n",
              "  </div>\n"
            ],
            "application/vnd.google.colaboratory.intrinsic+json": {
              "type": "dataframe",
              "variable_name": "df",
              "summary": "{\n  \"name\": \"df\",\n  \"rows\": 223,\n  \"fields\": [\n    {\n      \"column\": \"Country/Territory\",\n      \"properties\": {\n        \"dtype\": \"string\",\n        \"num_unique_values\": 223,\n        \"samples\": [\n          \"Cayman Islands\",\n          \"Montserrat\",\n          \"North Macedonia\"\n        ],\n        \"semantic_type\": \"\",\n        \"description\": \"\"\n      }\n    },\n    {\n      \"column\": \"UN_Region\",\n      \"properties\": {\n        \"dtype\": \"category\",\n        \"num_unique_values\": 6,\n        \"samples\": [\n          \"Europe\",\n          \"Americas\",\n          \"World\"\n        ],\n        \"semantic_type\": \"\",\n        \"description\": \"\"\n      }\n    },\n    {\n      \"column\": \"IMF_Estimate\",\n      \"properties\": {\n        \"dtype\": \"number\",\n        \"std\": 23251.11020459661,\n        \"min\": 249.0,\n        \"max\": 132372.0,\n        \"num_unique_values\": 197,\n        \"samples\": [\n          3204.0,\n          5308.0,\n          52949.0\n        ],\n        \"semantic_type\": \"\",\n        \"description\": \"\"\n      }\n    },\n    {\n      \"column\": \"IMF_Year\",\n      \"properties\": {\n        \"dtype\": \"number\",\n        \"std\": 650,\n        \"min\": 0,\n        \"max\": 2023,\n        \"num_unique_values\": 4,\n        \"samples\": [\n          2023,\n          2022,\n          0\n        ],\n        \"semantic_type\": \"\",\n        \"description\": \"\"\n      }\n    },\n    {\n      \"column\": \"WorldBank_Estimate\",\n      \"properties\": {\n        \"dtype\": \"number\",\n        \"std\": 29103,\n        \"min\": 0,\n        \"max\": 234316,\n        \"num_unique_values\": 216,\n        \"samples\": [\n          676,\n          480,\n          3691\n        ],\n        \"semantic_type\": \"\",\n        \"description\": \"\"\n      }\n    },\n    {\n      \"column\": \"WorldBank_Year\",\n      \"properties\": {\n        \"dtype\": \"number\",\n        \"std\": 353,\n        \"min\": 0,\n        \"max\": 2021,\n        \"num_unique_values\": 9,\n        \"samples\": [\n          2011,\n          2020,\n          2018\n        ],\n        \"semantic_type\": \"\",\n        \"description\": \"\"\n      }\n    },\n    {\n      \"column\": \"UN_Estimate\",\n      \"properties\": {\n        \"dtype\": \"number\",\n        \"std\": 28698,\n        \"min\": 0,\n        \"max\": 234317,\n        \"num_unique_values\": 215,\n        \"samples\": [\n          623,\n          505,\n          3573\n        ],\n        \"semantic_type\": \"\",\n        \"description\": \"\"\n      }\n    },\n    {\n      \"column\": \"UN_Year\",\n      \"properties\": {\n        \"dtype\": \"category\",\n        \"num_unique_values\": 3,\n        \"samples\": [\n          \"2021\",\n          \"0\",\n          \"[n 10]2021\"\n        ],\n        \"semantic_type\": \"\",\n        \"description\": \"\"\n      }\n    }\n  ]\n}"
            }
          },
          "metadata": {},
          "execution_count": 54
        }
      ],
      "source": [
        "# replace 0 with null values\n",
        "\n",
        "df[\"IMF_Estimate\"] = df[\"IMF_Estimate\"].replace(0,np.nan)\n",
        "\n",
        "df"
      ]
    },
    {
      "cell_type": "code",
      "execution_count": null,
      "id": "a5deaf5e-d69d-40ce-a6d7-e7205c29f006",
      "metadata": {
        "colab": {
          "base_uri": "https://localhost:8080/",
          "height": 443
        },
        "id": "a5deaf5e-d69d-40ce-a6d7-e7205c29f006",
        "outputId": "52281598-4d86-41d3-8029-8e1f324a5a20"
      },
      "outputs": [
        {
          "output_type": "execute_result",
          "data": {
            "text/plain": [
              "    Country/Territory UN_Region  IMF_Estimate  IMF_Year  WorldBank_Estimate  \\\n",
              "1              Monaco    Europe           NaN         0              234316   \n",
              "2       Liechtenstein    Europe           NaN         0              157755   \n",
              "3          Luxembourg    Europe      132372.0      2023              133590   \n",
              "4             Ireland    Europe      114581.0      2023              100172   \n",
              "5             Bermuda  Americas           NaN         0              114090   \n",
              "..                ...       ...           ...       ...                 ...   \n",
              "219            Malawi    Africa         496.0      2023                 635   \n",
              "220       South Sudan    Africa         467.0      2023                1072   \n",
              "221      Sierra Leone    Africa         415.0      2023                 480   \n",
              "222       Afghanistan      Asia         611.0      2020                 369   \n",
              "223           Burundi    Africa         249.0      2023                 222   \n",
              "\n",
              "     WorldBank_Year  UN_Estimate UN_Year  avg_worldb_un  \n",
              "1              2021       234317    2021       234316.5  \n",
              "2              2020       169260    2021       163507.5  \n",
              "3              2021       133745    2021       133667.5  \n",
              "4              2021       101109    2021       100640.5  \n",
              "5              2021       112653    2021       113371.5  \n",
              "..              ...          ...     ...            ...  \n",
              "219            2021          613    2021          624.0  \n",
              "220            2015          400    2021          736.0  \n",
              "221            2021          505    2021          492.5  \n",
              "222            2021          373    2021          371.0  \n",
              "223            2021          311    2021          266.5  \n",
              "\n",
              "[223 rows x 9 columns]"
            ],
            "text/html": [
              "\n",
              "  <div id=\"df-1f4ba1c8-7866-4c76-aabc-cc1917ab0ff5\" class=\"colab-df-container\">\n",
              "    <div>\n",
              "<style scoped>\n",
              "    .dataframe tbody tr th:only-of-type {\n",
              "        vertical-align: middle;\n",
              "    }\n",
              "\n",
              "    .dataframe tbody tr th {\n",
              "        vertical-align: top;\n",
              "    }\n",
              "\n",
              "    .dataframe thead th {\n",
              "        text-align: right;\n",
              "    }\n",
              "</style>\n",
              "<table border=\"1\" class=\"dataframe\">\n",
              "  <thead>\n",
              "    <tr style=\"text-align: right;\">\n",
              "      <th></th>\n",
              "      <th>Country/Territory</th>\n",
              "      <th>UN_Region</th>\n",
              "      <th>IMF_Estimate</th>\n",
              "      <th>IMF_Year</th>\n",
              "      <th>WorldBank_Estimate</th>\n",
              "      <th>WorldBank_Year</th>\n",
              "      <th>UN_Estimate</th>\n",
              "      <th>UN_Year</th>\n",
              "      <th>avg_worldb_un</th>\n",
              "    </tr>\n",
              "  </thead>\n",
              "  <tbody>\n",
              "    <tr>\n",
              "      <th>1</th>\n",
              "      <td>Monaco</td>\n",
              "      <td>Europe</td>\n",
              "      <td>NaN</td>\n",
              "      <td>0</td>\n",
              "      <td>234316</td>\n",
              "      <td>2021</td>\n",
              "      <td>234317</td>\n",
              "      <td>2021</td>\n",
              "      <td>234316.5</td>\n",
              "    </tr>\n",
              "    <tr>\n",
              "      <th>2</th>\n",
              "      <td>Liechtenstein</td>\n",
              "      <td>Europe</td>\n",
              "      <td>NaN</td>\n",
              "      <td>0</td>\n",
              "      <td>157755</td>\n",
              "      <td>2020</td>\n",
              "      <td>169260</td>\n",
              "      <td>2021</td>\n",
              "      <td>163507.5</td>\n",
              "    </tr>\n",
              "    <tr>\n",
              "      <th>3</th>\n",
              "      <td>Luxembourg</td>\n",
              "      <td>Europe</td>\n",
              "      <td>132372.0</td>\n",
              "      <td>2023</td>\n",
              "      <td>133590</td>\n",
              "      <td>2021</td>\n",
              "      <td>133745</td>\n",
              "      <td>2021</td>\n",
              "      <td>133667.5</td>\n",
              "    </tr>\n",
              "    <tr>\n",
              "      <th>4</th>\n",
              "      <td>Ireland</td>\n",
              "      <td>Europe</td>\n",
              "      <td>114581.0</td>\n",
              "      <td>2023</td>\n",
              "      <td>100172</td>\n",
              "      <td>2021</td>\n",
              "      <td>101109</td>\n",
              "      <td>2021</td>\n",
              "      <td>100640.5</td>\n",
              "    </tr>\n",
              "    <tr>\n",
              "      <th>5</th>\n",
              "      <td>Bermuda</td>\n",
              "      <td>Americas</td>\n",
              "      <td>NaN</td>\n",
              "      <td>0</td>\n",
              "      <td>114090</td>\n",
              "      <td>2021</td>\n",
              "      <td>112653</td>\n",
              "      <td>2021</td>\n",
              "      <td>113371.5</td>\n",
              "    </tr>\n",
              "    <tr>\n",
              "      <th>...</th>\n",
              "      <td>...</td>\n",
              "      <td>...</td>\n",
              "      <td>...</td>\n",
              "      <td>...</td>\n",
              "      <td>...</td>\n",
              "      <td>...</td>\n",
              "      <td>...</td>\n",
              "      <td>...</td>\n",
              "      <td>...</td>\n",
              "    </tr>\n",
              "    <tr>\n",
              "      <th>219</th>\n",
              "      <td>Malawi</td>\n",
              "      <td>Africa</td>\n",
              "      <td>496.0</td>\n",
              "      <td>2023</td>\n",
              "      <td>635</td>\n",
              "      <td>2021</td>\n",
              "      <td>613</td>\n",
              "      <td>2021</td>\n",
              "      <td>624.0</td>\n",
              "    </tr>\n",
              "    <tr>\n",
              "      <th>220</th>\n",
              "      <td>South Sudan</td>\n",
              "      <td>Africa</td>\n",
              "      <td>467.0</td>\n",
              "      <td>2023</td>\n",
              "      <td>1072</td>\n",
              "      <td>2015</td>\n",
              "      <td>400</td>\n",
              "      <td>2021</td>\n",
              "      <td>736.0</td>\n",
              "    </tr>\n",
              "    <tr>\n",
              "      <th>221</th>\n",
              "      <td>Sierra Leone</td>\n",
              "      <td>Africa</td>\n",
              "      <td>415.0</td>\n",
              "      <td>2023</td>\n",
              "      <td>480</td>\n",
              "      <td>2021</td>\n",
              "      <td>505</td>\n",
              "      <td>2021</td>\n",
              "      <td>492.5</td>\n",
              "    </tr>\n",
              "    <tr>\n",
              "      <th>222</th>\n",
              "      <td>Afghanistan</td>\n",
              "      <td>Asia</td>\n",
              "      <td>611.0</td>\n",
              "      <td>2020</td>\n",
              "      <td>369</td>\n",
              "      <td>2021</td>\n",
              "      <td>373</td>\n",
              "      <td>2021</td>\n",
              "      <td>371.0</td>\n",
              "    </tr>\n",
              "    <tr>\n",
              "      <th>223</th>\n",
              "      <td>Burundi</td>\n",
              "      <td>Africa</td>\n",
              "      <td>249.0</td>\n",
              "      <td>2023</td>\n",
              "      <td>222</td>\n",
              "      <td>2021</td>\n",
              "      <td>311</td>\n",
              "      <td>2021</td>\n",
              "      <td>266.5</td>\n",
              "    </tr>\n",
              "  </tbody>\n",
              "</table>\n",
              "<p>223 rows × 9 columns</p>\n",
              "</div>\n",
              "    <div class=\"colab-df-buttons\">\n",
              "\n",
              "  <div class=\"colab-df-container\">\n",
              "    <button class=\"colab-df-convert\" onclick=\"convertToInteractive('df-1f4ba1c8-7866-4c76-aabc-cc1917ab0ff5')\"\n",
              "            title=\"Convert this dataframe to an interactive table.\"\n",
              "            style=\"display:none;\">\n",
              "\n",
              "  <svg xmlns=\"http://www.w3.org/2000/svg\" height=\"24px\" viewBox=\"0 -960 960 960\">\n",
              "    <path d=\"M120-120v-720h720v720H120Zm60-500h600v-160H180v160Zm220 220h160v-160H400v160Zm0 220h160v-160H400v160ZM180-400h160v-160H180v160Zm440 0h160v-160H620v160ZM180-180h160v-160H180v160Zm440 0h160v-160H620v160Z\"/>\n",
              "  </svg>\n",
              "    </button>\n",
              "\n",
              "  <style>\n",
              "    .colab-df-container {\n",
              "      display:flex;\n",
              "      gap: 12px;\n",
              "    }\n",
              "\n",
              "    .colab-df-convert {\n",
              "      background-color: #E8F0FE;\n",
              "      border: none;\n",
              "      border-radius: 50%;\n",
              "      cursor: pointer;\n",
              "      display: none;\n",
              "      fill: #1967D2;\n",
              "      height: 32px;\n",
              "      padding: 0 0 0 0;\n",
              "      width: 32px;\n",
              "    }\n",
              "\n",
              "    .colab-df-convert:hover {\n",
              "      background-color: #E2EBFA;\n",
              "      box-shadow: 0px 1px 2px rgba(60, 64, 67, 0.3), 0px 1px 3px 1px rgba(60, 64, 67, 0.15);\n",
              "      fill: #174EA6;\n",
              "    }\n",
              "\n",
              "    .colab-df-buttons div {\n",
              "      margin-bottom: 4px;\n",
              "    }\n",
              "\n",
              "    [theme=dark] .colab-df-convert {\n",
              "      background-color: #3B4455;\n",
              "      fill: #D2E3FC;\n",
              "    }\n",
              "\n",
              "    [theme=dark] .colab-df-convert:hover {\n",
              "      background-color: #434B5C;\n",
              "      box-shadow: 0px 1px 3px 1px rgba(0, 0, 0, 0.15);\n",
              "      filter: drop-shadow(0px 1px 2px rgba(0, 0, 0, 0.3));\n",
              "      fill: #FFFFFF;\n",
              "    }\n",
              "  </style>\n",
              "\n",
              "    <script>\n",
              "      const buttonEl =\n",
              "        document.querySelector('#df-1f4ba1c8-7866-4c76-aabc-cc1917ab0ff5 button.colab-df-convert');\n",
              "      buttonEl.style.display =\n",
              "        google.colab.kernel.accessAllowed ? 'block' : 'none';\n",
              "\n",
              "      async function convertToInteractive(key) {\n",
              "        const element = document.querySelector('#df-1f4ba1c8-7866-4c76-aabc-cc1917ab0ff5');\n",
              "        const dataTable =\n",
              "          await google.colab.kernel.invokeFunction('convertToInteractive',\n",
              "                                                    [key], {});\n",
              "        if (!dataTable) return;\n",
              "\n",
              "        const docLinkHtml = 'Like what you see? Visit the ' +\n",
              "          '<a target=\"_blank\" href=https://colab.research.google.com/notebooks/data_table.ipynb>data table notebook</a>'\n",
              "          + ' to learn more about interactive tables.';\n",
              "        element.innerHTML = '';\n",
              "        dataTable['output_type'] = 'display_data';\n",
              "        await google.colab.output.renderOutput(dataTable, element);\n",
              "        const docLink = document.createElement('div');\n",
              "        docLink.innerHTML = docLinkHtml;\n",
              "        element.appendChild(docLink);\n",
              "      }\n",
              "    </script>\n",
              "  </div>\n",
              "\n",
              "\n",
              "<div id=\"df-dcd8be05-50d2-45ed-9d0a-b7db781411dd\">\n",
              "  <button class=\"colab-df-quickchart\" onclick=\"quickchart('df-dcd8be05-50d2-45ed-9d0a-b7db781411dd')\"\n",
              "            title=\"Suggest charts\"\n",
              "            style=\"display:none;\">\n",
              "\n",
              "<svg xmlns=\"http://www.w3.org/2000/svg\" height=\"24px\"viewBox=\"0 0 24 24\"\n",
              "     width=\"24px\">\n",
              "    <g>\n",
              "        <path d=\"M19 3H5c-1.1 0-2 .9-2 2v14c0 1.1.9 2 2 2h14c1.1 0 2-.9 2-2V5c0-1.1-.9-2-2-2zM9 17H7v-7h2v7zm4 0h-2V7h2v10zm4 0h-2v-4h2v4z\"/>\n",
              "    </g>\n",
              "</svg>\n",
              "  </button>\n",
              "\n",
              "<style>\n",
              "  .colab-df-quickchart {\n",
              "      --bg-color: #E8F0FE;\n",
              "      --fill-color: #1967D2;\n",
              "      --hover-bg-color: #E2EBFA;\n",
              "      --hover-fill-color: #174EA6;\n",
              "      --disabled-fill-color: #AAA;\n",
              "      --disabled-bg-color: #DDD;\n",
              "  }\n",
              "\n",
              "  [theme=dark] .colab-df-quickchart {\n",
              "      --bg-color: #3B4455;\n",
              "      --fill-color: #D2E3FC;\n",
              "      --hover-bg-color: #434B5C;\n",
              "      --hover-fill-color: #FFFFFF;\n",
              "      --disabled-bg-color: #3B4455;\n",
              "      --disabled-fill-color: #666;\n",
              "  }\n",
              "\n",
              "  .colab-df-quickchart {\n",
              "    background-color: var(--bg-color);\n",
              "    border: none;\n",
              "    border-radius: 50%;\n",
              "    cursor: pointer;\n",
              "    display: none;\n",
              "    fill: var(--fill-color);\n",
              "    height: 32px;\n",
              "    padding: 0;\n",
              "    width: 32px;\n",
              "  }\n",
              "\n",
              "  .colab-df-quickchart:hover {\n",
              "    background-color: var(--hover-bg-color);\n",
              "    box-shadow: 0 1px 2px rgba(60, 64, 67, 0.3), 0 1px 3px 1px rgba(60, 64, 67, 0.15);\n",
              "    fill: var(--button-hover-fill-color);\n",
              "  }\n",
              "\n",
              "  .colab-df-quickchart-complete:disabled,\n",
              "  .colab-df-quickchart-complete:disabled:hover {\n",
              "    background-color: var(--disabled-bg-color);\n",
              "    fill: var(--disabled-fill-color);\n",
              "    box-shadow: none;\n",
              "  }\n",
              "\n",
              "  .colab-df-spinner {\n",
              "    border: 2px solid var(--fill-color);\n",
              "    border-color: transparent;\n",
              "    border-bottom-color: var(--fill-color);\n",
              "    animation:\n",
              "      spin 1s steps(1) infinite;\n",
              "  }\n",
              "\n",
              "  @keyframes spin {\n",
              "    0% {\n",
              "      border-color: transparent;\n",
              "      border-bottom-color: var(--fill-color);\n",
              "      border-left-color: var(--fill-color);\n",
              "    }\n",
              "    20% {\n",
              "      border-color: transparent;\n",
              "      border-left-color: var(--fill-color);\n",
              "      border-top-color: var(--fill-color);\n",
              "    }\n",
              "    30% {\n",
              "      border-color: transparent;\n",
              "      border-left-color: var(--fill-color);\n",
              "      border-top-color: var(--fill-color);\n",
              "      border-right-color: var(--fill-color);\n",
              "    }\n",
              "    40% {\n",
              "      border-color: transparent;\n",
              "      border-right-color: var(--fill-color);\n",
              "      border-top-color: var(--fill-color);\n",
              "    }\n",
              "    60% {\n",
              "      border-color: transparent;\n",
              "      border-right-color: var(--fill-color);\n",
              "    }\n",
              "    80% {\n",
              "      border-color: transparent;\n",
              "      border-right-color: var(--fill-color);\n",
              "      border-bottom-color: var(--fill-color);\n",
              "    }\n",
              "    90% {\n",
              "      border-color: transparent;\n",
              "      border-bottom-color: var(--fill-color);\n",
              "    }\n",
              "  }\n",
              "</style>\n",
              "\n",
              "  <script>\n",
              "    async function quickchart(key) {\n",
              "      const quickchartButtonEl =\n",
              "        document.querySelector('#' + key + ' button');\n",
              "      quickchartButtonEl.disabled = true;  // To prevent multiple clicks.\n",
              "      quickchartButtonEl.classList.add('colab-df-spinner');\n",
              "      try {\n",
              "        const charts = await google.colab.kernel.invokeFunction(\n",
              "            'suggestCharts', [key], {});\n",
              "      } catch (error) {\n",
              "        console.error('Error during call to suggestCharts:', error);\n",
              "      }\n",
              "      quickchartButtonEl.classList.remove('colab-df-spinner');\n",
              "      quickchartButtonEl.classList.add('colab-df-quickchart-complete');\n",
              "    }\n",
              "    (() => {\n",
              "      let quickchartButtonEl =\n",
              "        document.querySelector('#df-dcd8be05-50d2-45ed-9d0a-b7db781411dd button');\n",
              "      quickchartButtonEl.style.display =\n",
              "        google.colab.kernel.accessAllowed ? 'block' : 'none';\n",
              "    })();\n",
              "  </script>\n",
              "</div>\n",
              "\n",
              "  <div id=\"id_6438a134-d545-486d-83d9-ec721ba34542\">\n",
              "    <style>\n",
              "      .colab-df-generate {\n",
              "        background-color: #E8F0FE;\n",
              "        border: none;\n",
              "        border-radius: 50%;\n",
              "        cursor: pointer;\n",
              "        display: none;\n",
              "        fill: #1967D2;\n",
              "        height: 32px;\n",
              "        padding: 0 0 0 0;\n",
              "        width: 32px;\n",
              "      }\n",
              "\n",
              "      .colab-df-generate:hover {\n",
              "        background-color: #E2EBFA;\n",
              "        box-shadow: 0px 1px 2px rgba(60, 64, 67, 0.3), 0px 1px 3px 1px rgba(60, 64, 67, 0.15);\n",
              "        fill: #174EA6;\n",
              "      }\n",
              "\n",
              "      [theme=dark] .colab-df-generate {\n",
              "        background-color: #3B4455;\n",
              "        fill: #D2E3FC;\n",
              "      }\n",
              "\n",
              "      [theme=dark] .colab-df-generate:hover {\n",
              "        background-color: #434B5C;\n",
              "        box-shadow: 0px 1px 3px 1px rgba(0, 0, 0, 0.15);\n",
              "        filter: drop-shadow(0px 1px 2px rgba(0, 0, 0, 0.3));\n",
              "        fill: #FFFFFF;\n",
              "      }\n",
              "    </style>\n",
              "    <button class=\"colab-df-generate\" onclick=\"generateWithVariable('df')\"\n",
              "            title=\"Generate code using this dataframe.\"\n",
              "            style=\"display:none;\">\n",
              "\n",
              "  <svg xmlns=\"http://www.w3.org/2000/svg\" height=\"24px\"viewBox=\"0 0 24 24\"\n",
              "       width=\"24px\">\n",
              "    <path d=\"M7,19H8.4L18.45,9,17,7.55,7,17.6ZM5,21V16.75L18.45,3.32a2,2,0,0,1,2.83,0l1.4,1.43a1.91,1.91,0,0,1,.58,1.4,1.91,1.91,0,0,1-.58,1.4L9.25,21ZM18.45,9,17,7.55Zm-12,3A5.31,5.31,0,0,0,4.9,8.1,5.31,5.31,0,0,0,1,6.5,5.31,5.31,0,0,0,4.9,4.9,5.31,5.31,0,0,0,6.5,1,5.31,5.31,0,0,0,8.1,4.9,5.31,5.31,0,0,0,12,6.5,5.46,5.46,0,0,0,6.5,12Z\"/>\n",
              "  </svg>\n",
              "    </button>\n",
              "    <script>\n",
              "      (() => {\n",
              "      const buttonEl =\n",
              "        document.querySelector('#id_6438a134-d545-486d-83d9-ec721ba34542 button.colab-df-generate');\n",
              "      buttonEl.style.display =\n",
              "        google.colab.kernel.accessAllowed ? 'block' : 'none';\n",
              "\n",
              "      buttonEl.onclick = () => {\n",
              "        google.colab.notebook.generateWithVariable('df');\n",
              "      }\n",
              "      })();\n",
              "    </script>\n",
              "  </div>\n",
              "\n",
              "    </div>\n",
              "  </div>\n"
            ],
            "application/vnd.google.colaboratory.intrinsic+json": {
              "type": "dataframe",
              "variable_name": "df",
              "summary": "{\n  \"name\": \"df\",\n  \"rows\": 223,\n  \"fields\": [\n    {\n      \"column\": \"Country/Territory\",\n      \"properties\": {\n        \"dtype\": \"string\",\n        \"num_unique_values\": 223,\n        \"samples\": [\n          \"Cayman Islands\",\n          \"Montserrat\",\n          \"North Macedonia\"\n        ],\n        \"semantic_type\": \"\",\n        \"description\": \"\"\n      }\n    },\n    {\n      \"column\": \"UN_Region\",\n      \"properties\": {\n        \"dtype\": \"category\",\n        \"num_unique_values\": 6,\n        \"samples\": [\n          \"Europe\",\n          \"Americas\",\n          \"World\"\n        ],\n        \"semantic_type\": \"\",\n        \"description\": \"\"\n      }\n    },\n    {\n      \"column\": \"IMF_Estimate\",\n      \"properties\": {\n        \"dtype\": \"number\",\n        \"std\": 23251.11020459661,\n        \"min\": 249.0,\n        \"max\": 132372.0,\n        \"num_unique_values\": 197,\n        \"samples\": [\n          3204.0,\n          5308.0,\n          52949.0\n        ],\n        \"semantic_type\": \"\",\n        \"description\": \"\"\n      }\n    },\n    {\n      \"column\": \"IMF_Year\",\n      \"properties\": {\n        \"dtype\": \"number\",\n        \"std\": 650,\n        \"min\": 0,\n        \"max\": 2023,\n        \"num_unique_values\": 4,\n        \"samples\": [\n          2023,\n          2022,\n          0\n        ],\n        \"semantic_type\": \"\",\n        \"description\": \"\"\n      }\n    },\n    {\n      \"column\": \"WorldBank_Estimate\",\n      \"properties\": {\n        \"dtype\": \"number\",\n        \"std\": 29103,\n        \"min\": 0,\n        \"max\": 234316,\n        \"num_unique_values\": 216,\n        \"samples\": [\n          676,\n          480,\n          3691\n        ],\n        \"semantic_type\": \"\",\n        \"description\": \"\"\n      }\n    },\n    {\n      \"column\": \"WorldBank_Year\",\n      \"properties\": {\n        \"dtype\": \"number\",\n        \"std\": 353,\n        \"min\": 0,\n        \"max\": 2021,\n        \"num_unique_values\": 9,\n        \"samples\": [\n          2011,\n          2020,\n          2018\n        ],\n        \"semantic_type\": \"\",\n        \"description\": \"\"\n      }\n    },\n    {\n      \"column\": \"UN_Estimate\",\n      \"properties\": {\n        \"dtype\": \"number\",\n        \"std\": 28698,\n        \"min\": 0,\n        \"max\": 234317,\n        \"num_unique_values\": 215,\n        \"samples\": [\n          623,\n          505,\n          3573\n        ],\n        \"semantic_type\": \"\",\n        \"description\": \"\"\n      }\n    },\n    {\n      \"column\": \"UN_Year\",\n      \"properties\": {\n        \"dtype\": \"category\",\n        \"num_unique_values\": 3,\n        \"samples\": [\n          \"2021\",\n          \"0\",\n          \"[n 10]2021\"\n        ],\n        \"semantic_type\": \"\",\n        \"description\": \"\"\n      }\n    },\n    {\n      \"column\": \"avg_worldb_un\",\n      \"properties\": {\n        \"dtype\": \"number\",\n        \"std\": 28393.023173938593,\n        \"min\": 0.0,\n        \"max\": 234316.5,\n        \"num_unique_values\": 223,\n        \"samples\": [\n          85909.5,\n          8099.5,\n          6647.5\n        ],\n        \"semantic_type\": \"\",\n        \"description\": \"\"\n      }\n    }\n  ]\n}"
            }
          },
          "metadata": {},
          "execution_count": 64
        }
      ],
      "source": [
        "# Calculate the average of 'Worldbank_Estimate' and 'UN_Estimate' columns\n",
        "\n",
        "df[\"avg_worldb_un\"]= df[[\"WorldBank_Estimate\", \"UN_Estimate\"]].mean(axis=1)\n",
        "df"
      ]
    },
    {
      "cell_type": "code",
      "execution_count": null,
      "id": "e6204448-c58b-413d-8015-36a7727c2ef5",
      "metadata": {
        "id": "e6204448-c58b-413d-8015-36a7727c2ef5"
      },
      "outputs": [],
      "source": [
        "# Fill the null values in 'imf' column with the calculated average\n",
        "\n",
        "\n"
      ]
    },
    {
      "cell_type": "code",
      "source": [],
      "metadata": {
        "id": "aHkjzpe7IGQx"
      },
      "id": "aHkjzpe7IGQx",
      "execution_count": null,
      "outputs": []
    },
    {
      "cell_type": "code",
      "execution_count": null,
      "id": "31f244cc-98cf-4836-ab6d-dd03f4d89863",
      "metadata": {
        "id": "31f244cc-98cf-4836-ab6d-dd03f4d89863"
      },
      "outputs": [],
      "source": []
    },
    {
      "cell_type": "code",
      "execution_count": 1,
      "id": "cd6c1dc9-caa5-4489-a607-671526727dd6",
      "metadata": {
        "id": "cd6c1dc9-caa5-4489-a607-671526727dd6",
        "colab": {
          "base_uri": "https://localhost:8080/",
          "height": 193
        },
        "outputId": "80161639-24db-4acd-d189-ef4611ef1604"
      },
      "outputs": [
        {
          "output_type": "error",
          "ename": "NameError",
          "evalue": "name 'df' is not defined",
          "traceback": [
            "\u001b[0;31m---------------------------------------------------------------------------\u001b[0m",
            "\u001b[0;31mNameError\u001b[0m                                 Traceback (most recent call last)",
            "\u001b[0;32m<ipython-input-1-435a73ccb3a9>\u001b[0m in \u001b[0;36m<cell line: 0>\u001b[0;34m()\u001b[0m\n\u001b[1;32m      4\u001b[0m \u001b[0;34m\u001b[0m\u001b[0m\n\u001b[1;32m      5\u001b[0m \u001b[0;34m\u001b[0m\u001b[0m\n\u001b[0;32m----> 6\u001b[0;31m \u001b[0mdf\u001b[0m\u001b[0;34m.\u001b[0m\u001b[0mdrop\u001b[0m\u001b[0;34m(\u001b[0m\u001b[0;34m\"avg_worldb_un\"\u001b[0m\u001b[0;34m,\u001b[0m \u001b[0maxis\u001b[0m \u001b[0;34m=\u001b[0m \u001b[0;36m1\u001b[0m\u001b[0;34m,\u001b[0m \u001b[0minplace\u001b[0m \u001b[0;34m=\u001b[0m \u001b[0;32mTrue\u001b[0m\u001b[0;34m)\u001b[0m\u001b[0;34m\u001b[0m\u001b[0;34m\u001b[0m\u001b[0m\n\u001b[0m\u001b[1;32m      7\u001b[0m \u001b[0;34m\u001b[0m\u001b[0m\n",
            "\u001b[0;31mNameError\u001b[0m: name 'df' is not defined"
          ]
        }
      ],
      "source": [
        "# Drop the temporary 'avg_worldbank_un' column if not needed\n",
        "\n",
        "\n",
        "\n",
        "\n",
        "df.drop(\"avg_worldb_un\", axis = 1, inplace = True)\n",
        "\n"
      ]
    },
    {
      "cell_type": "code",
      "execution_count": null,
      "id": "813e7182-de55-41a3-aab9-de2423f3eaab",
      "metadata": {
        "id": "813e7182-de55-41a3-aab9-de2423f3eaab"
      },
      "outputs": [],
      "source": []
    },
    {
      "cell_type": "markdown",
      "id": "162be68a-dee1-478a-80b6-ac8e8537bcf7",
      "metadata": {
        "id": "162be68a-dee1-478a-80b6-ac8e8537bcf7"
      },
      "source": [
        "[Visit this link to learn more about ffill](https://www.w3schools.com/python/pandas/ref_df_ffill.asp)"
      ]
    },
    {
      "cell_type": "markdown",
      "id": "56061f24-0128-4773-a177-37b33640c9a9",
      "metadata": {
        "id": "56061f24-0128-4773-a177-37b33640c9a9"
      },
      "source": [
        "[Visit this link to learn more about bfill](https://www.w3schools.com/python/pandas/ref_df_bfill.asp)"
      ]
    },
    {
      "cell_type": "markdown",
      "id": "3432bd13",
      "metadata": {
        "jp-MarkdownHeadingCollapsed": true,
        "id": "3432bd13"
      },
      "source": [
        "## Checking Missing Values"
      ]
    },
    {
      "cell_type": "code",
      "execution_count": null,
      "id": "48996ae2",
      "metadata": {
        "id": "48996ae2"
      },
      "outputs": [],
      "source": []
    },
    {
      "cell_type": "code",
      "execution_count": null,
      "id": "102175a5",
      "metadata": {
        "id": "102175a5"
      },
      "outputs": [],
      "source": []
    },
    {
      "cell_type": "code",
      "execution_count": null,
      "id": "194f30f0",
      "metadata": {
        "id": "194f30f0"
      },
      "outputs": [],
      "source": []
    },
    {
      "cell_type": "code",
      "execution_count": null,
      "id": "a08c53e0",
      "metadata": {
        "id": "a08c53e0"
      },
      "outputs": [],
      "source": []
    },
    {
      "cell_type": "markdown",
      "id": "84e9d86b",
      "metadata": {
        "jp-MarkdownHeadingCollapsed": true,
        "id": "84e9d86b"
      },
      "source": [
        "## Visualization"
      ]
    },
    {
      "cell_type": "code",
      "execution_count": null,
      "id": "bf0b0c79",
      "metadata": {
        "id": "bf0b0c79"
      },
      "outputs": [],
      "source": [
        "import matplotlib.pyplot as plt\n",
        "import seaborn as sns"
      ]
    },
    {
      "cell_type": "markdown",
      "id": "4a4da1d7",
      "metadata": {
        "id": "4a4da1d7"
      },
      "source": [
        "### Histogram"
      ]
    },
    {
      "cell_type": "code",
      "execution_count": null,
      "id": "a924b0ee",
      "metadata": {
        "id": "a924b0ee"
      },
      "outputs": [],
      "source": [
        "df.hist(figsize=(10,8))\n",
        "plt.show()"
      ]
    },
    {
      "cell_type": "code",
      "execution_count": null,
      "id": "45fc4edf",
      "metadata": {
        "id": "45fc4edf"
      },
      "outputs": [],
      "source": [
        "df[[\"IMF_Estimate\", \"UN_Estimate\", \"WorldBank_Estimate\"]].hist(figsize=(12,9))\n",
        "\n",
        "plt.show()"
      ]
    },
    {
      "cell_type": "code",
      "execution_count": null,
      "id": "765a97e0",
      "metadata": {
        "id": "765a97e0"
      },
      "outputs": [],
      "source": [
        "df[[\"IMF_Estimate\", \"UN_Estimate\", \"WorldBank_Estimate\"]].hist(bins=5, figsize=(12,9))\n",
        "\n",
        "plt.show()"
      ]
    },
    {
      "cell_type": "code",
      "execution_count": null,
      "id": "1f89e26d",
      "metadata": {
        "id": "1f89e26d"
      },
      "outputs": [],
      "source": [
        "df[\"WorldBank_Estimate\"].agg([\"min\",\"max\"])"
      ]
    },
    {
      "cell_type": "code",
      "execution_count": null,
      "id": "623ac797",
      "metadata": {
        "id": "623ac797"
      },
      "outputs": [],
      "source": [
        "234316/5\n",
        "#1 bin size if bins=5"
      ]
    },
    {
      "cell_type": "code",
      "execution_count": null,
      "id": "58c05fdf-ab62-4f74-9c3d-b4dbf8f9dc55",
      "metadata": {
        "id": "58c05fdf-ab62-4f74-9c3d-b4dbf8f9dc55"
      },
      "outputs": [],
      "source": [
        "df[df[\"WorldBank_Estimate\"]<=46863.2][\"WorldBank_Estimate\"].count()"
      ]
    },
    {
      "cell_type": "code",
      "execution_count": null,
      "id": "a36546fa",
      "metadata": {
        "id": "a36546fa"
      },
      "outputs": [],
      "source": [
        "234316/10\n",
        "#1 bin size if bins not given any number"
      ]
    },
    {
      "cell_type": "code",
      "execution_count": null,
      "id": "79c3d1e5",
      "metadata": {
        "id": "79c3d1e5"
      },
      "outputs": [],
      "source": [
        "df[[\"IMF_Estimate\", \"UN_Estimate\", \"WorldBank_Estimate\"]].hist(bins=3, figsize=(12,9))\n",
        "\n",
        "plt.show()"
      ]
    },
    {
      "cell_type": "code",
      "execution_count": null,
      "id": "05e7fd91",
      "metadata": {
        "id": "05e7fd91"
      },
      "outputs": [],
      "source": [
        "df[[\"IMF_Estimate\", \"UN_Estimate\", \"WorldBank_Estimate\"]].hist(bins=15, figsize=(15,12))\n",
        "\n",
        "#23400/15 = 15300\n",
        "plt.show()"
      ]
    },
    {
      "cell_type": "markdown",
      "id": "e70fb08b",
      "metadata": {
        "id": "e70fb08b"
      },
      "source": [
        "### Correlation Heatmap"
      ]
    },
    {
      "cell_type": "code",
      "execution_count": null,
      "id": "e9ddd23e",
      "metadata": {
        "id": "e9ddd23e"
      },
      "outputs": [],
      "source": [
        "df[[\"IMF_Estimate\", \"UN_Estimate\", \"WorldBank_Estimate\"]].corr()"
      ]
    },
    {
      "cell_type": "code",
      "execution_count": null,
      "id": "f6dbc603",
      "metadata": {
        "id": "f6dbc603"
      },
      "outputs": [],
      "source": [
        "corr = df[[\"IMF_Estimate\", \"UN_Estimate\", \"WorldBank_Estimate\"]].corr()\n",
        "\n",
        "plt.figure(figsize=(9,6))\n",
        "sns.heatmap(corr)\n",
        "\n",
        "plt.show()"
      ]
    },
    {
      "cell_type": "code",
      "execution_count": null,
      "id": "0ea2c2c6",
      "metadata": {
        "id": "0ea2c2c6"
      },
      "outputs": [],
      "source": [
        "corr = df[[\"IMF_Estimate\", \"UN_Estimate\", \"WorldBank_Estimate\"]].corr()\n",
        "\n",
        "plt.figure(figsize=(9,6))\n",
        "\n",
        "sns.heatmap(corr, annot=True)\n",
        "\n",
        "plt.show()"
      ]
    },
    {
      "cell_type": "code",
      "execution_count": null,
      "id": "ec56839b",
      "metadata": {
        "id": "ec56839b"
      },
      "outputs": [],
      "source": [
        "corr = df[[\"IMF_Estimate\", \"UN_Estimate\", \"WorldBank_Estimate\"]].corr()\n",
        "\n",
        "plt.figure(figsize=(9,6))\n",
        "\n",
        "sns.heatmap(corr, annot=True, fmt=\".2f\", cmap = 'GnBu', annot_kws={\"size\": 12})\n",
        "\n",
        "plt.show()"
      ]
    },
    {
      "cell_type": "code",
      "execution_count": null,
      "id": "a4688e18",
      "metadata": {
        "id": "a4688e18"
      },
      "outputs": [],
      "source": [
        "corr = df[[\"IMF_Estimate\", \"UN_Estimate\", \"WorldBank_Estimate\"]].corr()\n",
        "\n",
        "plt.figure(figsize=(9,6))\n",
        "\n",
        "sns.heatmap(corr, annot=True, cmap = 'Purples')\n",
        "\n",
        "plt.title(\"Correlation Map\")\n",
        "\n",
        "\n",
        "plt.show()"
      ]
    },
    {
      "cell_type": "code",
      "execution_count": null,
      "id": "acba3c9a-0a72-40a0-80f7-be19ec50d5e0",
      "metadata": {
        "id": "acba3c9a-0a72-40a0-80f7-be19ec50d5e0"
      },
      "outputs": [],
      "source": [
        "corr = df.select_dtypes(include=[int, float]).corr()\n",
        "\n",
        "plt.figure(figsize=(9,6))\n",
        "\n",
        "sns.heatmap(corr, annot=True, cmap = 'Purples')\n",
        "\n",
        "plt.show()"
      ]
    },
    {
      "cell_type": "markdown",
      "id": "8ee4dc00",
      "metadata": {
        "jp-MarkdownHeadingCollapsed": true,
        "id": "8ee4dc00"
      },
      "source": [
        "### Bar plot"
      ]
    },
    {
      "cell_type": "code",
      "execution_count": null,
      "id": "4ca42efd",
      "metadata": {
        "id": "4ca42efd"
      },
      "outputs": [],
      "source": [
        "df.head()"
      ]
    },
    {
      "cell_type": "code",
      "execution_count": null,
      "id": "09e70a00",
      "metadata": {
        "id": "09e70a00"
      },
      "outputs": [],
      "source": [
        "sns.barplot(x=\"UN_Region\", y=\"WorldBank_Estimate\", data=df, errorbar=None)\n",
        "\n",
        "plt.show()"
      ]
    },
    {
      "cell_type": "code",
      "execution_count": null,
      "id": "6a7c7377",
      "metadata": {
        "id": "6a7c7377"
      },
      "outputs": [],
      "source": [
        "sns.barplot(x=\"WorldBank_Estimate\", y=\"UN_Region\", data=df, errorbar=None)\n",
        "\n",
        "plt.show()"
      ]
    },
    {
      "cell_type": "code",
      "execution_count": null,
      "id": "f8659907",
      "metadata": {
        "id": "f8659907"
      },
      "outputs": [],
      "source": [
        "fig = plt.figure(figsize = (8,5))\n",
        "\n",
        "ax = sns.barplot(x = \"IMF_Estimate\",  y = \"UN_Region\",\n",
        "data = df, errorbar = None)\n",
        "\n",
        "ax.bar_label(ax.containers[0])\n",
        "\n",
        "plt.show()"
      ]
    },
    {
      "cell_type": "code",
      "execution_count": null,
      "id": "9a15bcad",
      "metadata": {
        "id": "9a15bcad"
      },
      "outputs": [],
      "source": [
        "fig = plt.figure(figsize = (8,5))\n",
        "ax = sns.barplot(x = \"UN_Region\",  y = \"IMF_Estimate\",\n",
        "                 data = df, errorbar = None)\n",
        "\n",
        "ax.bar_label(ax.containers[0])\n",
        "\n",
        "\n",
        "ax.set_title(\"Regions by IMF Estimate\")\n",
        "plt.show()"
      ]
    },
    {
      "cell_type": "code",
      "execution_count": null,
      "id": "6e99479a",
      "metadata": {
        "id": "6e99479a"
      },
      "outputs": [],
      "source": []
    },
    {
      "cell_type": "markdown",
      "id": "f1aa35d0",
      "metadata": {
        "jp-MarkdownHeadingCollapsed": true,
        "id": "f1aa35d0"
      },
      "source": [
        "### Scatter Plot"
      ]
    },
    {
      "cell_type": "code",
      "execution_count": null,
      "id": "d8583563",
      "metadata": {
        "id": "d8583563"
      },
      "outputs": [],
      "source": [
        "df.plot(x='UN_Region', y='UN_Estimate', kind='scatter',\n",
        "        figsize=(10,6),\n",
        "        title=\"Scatter Plot\")\n",
        "\n",
        "plt.show()"
      ]
    },
    {
      "cell_type": "code",
      "execution_count": null,
      "id": "67dc9155",
      "metadata": {
        "id": "67dc9155"
      },
      "outputs": [],
      "source": []
    },
    {
      "cell_type": "code",
      "execution_count": null,
      "id": "510f198a",
      "metadata": {
        "id": "510f198a"
      },
      "outputs": [],
      "source": []
    },
    {
      "cell_type": "code",
      "execution_count": null,
      "id": "14284f4f",
      "metadata": {
        "id": "14284f4f"
      },
      "outputs": [],
      "source": []
    },
    {
      "cell_type": "code",
      "execution_count": null,
      "id": "f56493b0",
      "metadata": {
        "id": "f56493b0"
      },
      "outputs": [],
      "source": []
    },
    {
      "cell_type": "markdown",
      "id": "08663651",
      "metadata": {
        "id": "08663651"
      },
      "source": [
        "### Boxplot and Outliers"
      ]
    },
    {
      "cell_type": "markdown",
      "id": "fb12e7bd-1553-4cd8-b19d-9cb3d4589107",
      "metadata": {
        "id": "fb12e7bd-1553-4cd8-b19d-9cb3d4589107"
      },
      "source": [
        "![image.png](attachment:da6a7715-3b1c-4165-a2a9-4dc8ca096bd7.png)"
      ]
    },
    {
      "cell_type": "code",
      "execution_count": null,
      "id": "3ceac0a3",
      "metadata": {
        "id": "3ceac0a3"
      },
      "outputs": [],
      "source": [
        "sns.boxplot(x=df[\"UN_Estimate\"])\n",
        "\n",
        "plt.show()"
      ]
    },
    {
      "cell_type": "code",
      "execution_count": null,
      "id": "7081b2d4",
      "metadata": {
        "id": "7081b2d4"
      },
      "outputs": [],
      "source": [
        "df[df[\"UN_Estimate\"]>50000].head()"
      ]
    },
    {
      "cell_type": "code",
      "execution_count": null,
      "id": "99282133",
      "metadata": {
        "id": "99282133"
      },
      "outputs": [],
      "source": [
        "sns.boxplot(x=df[\"WorldBank_Estimate\"])\n",
        "\n",
        "plt.show()"
      ]
    },
    {
      "cell_type": "code",
      "execution_count": null,
      "id": "6ba80c49",
      "metadata": {
        "id": "6ba80c49"
      },
      "outputs": [],
      "source": [
        "sns.boxplot(x=df[\"IMF_Estimate\"])\n",
        "\n",
        "plt.show()"
      ]
    },
    {
      "cell_type": "code",
      "execution_count": null,
      "id": "983a04a2",
      "metadata": {
        "id": "983a04a2"
      },
      "outputs": [],
      "source": [
        "df[df[\"UN_Estimate\"]>100000]"
      ]
    },
    {
      "cell_type": "code",
      "execution_count": null,
      "id": "91b0c382",
      "metadata": {
        "id": "91b0c382"
      },
      "outputs": [],
      "source": [
        "df.UN_Estimate.mean()"
      ]
    },
    {
      "cell_type": "code",
      "execution_count": null,
      "id": "bad9872e",
      "metadata": {
        "id": "bad9872e"
      },
      "outputs": [],
      "source": [
        "df.shape"
      ]
    },
    {
      "cell_type": "code",
      "execution_count": null,
      "id": "78b3c8ef",
      "metadata": {
        "id": "78b3c8ef"
      },
      "outputs": [],
      "source": []
    },
    {
      "cell_type": "markdown",
      "id": "080decce",
      "metadata": {
        "jp-MarkdownHeadingCollapsed": true,
        "id": "080decce"
      },
      "source": [
        "## Create another dataframe called data excluding  5 countries with highest UN estimate"
      ]
    },
    {
      "cell_type": "code",
      "execution_count": null,
      "id": "1c0b325d",
      "metadata": {
        "id": "1c0b325d"
      },
      "outputs": [],
      "source": [
        "data = df[-(df[\"UN_Estimate\"]>100000)]"
      ]
    },
    {
      "cell_type": "code",
      "execution_count": null,
      "id": "65788d80",
      "metadata": {
        "id": "65788d80"
      },
      "outputs": [],
      "source": [
        "data.head()"
      ]
    },
    {
      "cell_type": "code",
      "execution_count": null,
      "id": "4690f065",
      "metadata": {
        "id": "4690f065"
      },
      "outputs": [],
      "source": [
        "data.shape"
      ]
    },
    {
      "cell_type": "code",
      "execution_count": null,
      "id": "273c9a10",
      "metadata": {
        "id": "273c9a10"
      },
      "outputs": [],
      "source": [
        "data.UN_Estimate.mean()"
      ]
    },
    {
      "cell_type": "code",
      "execution_count": null,
      "id": "1ca86f8a-0ced-4e5b-990d-b16b8fa3377a",
      "metadata": {
        "id": "1ca86f8a-0ced-4e5b-990d-b16b8fa3377a"
      },
      "outputs": [],
      "source": [
        "df.UN_Estimate.mean()"
      ]
    },
    {
      "cell_type": "markdown",
      "id": "f5e3f021",
      "metadata": {
        "id": "f5e3f021"
      },
      "source": [
        "![image.png](attachment:image.png)"
      ]
    },
    {
      "cell_type": "code",
      "execution_count": null,
      "id": "860f66c6",
      "metadata": {
        "id": "860f66c6"
      },
      "outputs": [],
      "source": [
        "sns.boxplot(x=data[\"UN_Estimate\"])\n",
        "plt.show()"
      ]
    },
    {
      "cell_type": "markdown",
      "id": "d47b00f3",
      "metadata": {
        "id": "d47b00f3"
      },
      "source": [
        "## Removing outliers"
      ]
    },
    {
      "cell_type": "markdown",
      "id": "113a0eab-5238-4ec2-9acc-c2200a73ae85",
      "metadata": {
        "id": "113a0eab-5238-4ec2-9acc-c2200a73ae85"
      },
      "source": [
        "![image.png](attachment:da6a7715-3b1c-4165-a2a9-4dc8ca096bd7.png)"
      ]
    },
    {
      "cell_type": "markdown",
      "id": "3f18db3e-dbbe-4455-83b6-b4c25453dce7",
      "metadata": {
        "id": "3f18db3e-dbbe-4455-83b6-b4c25453dce7"
      },
      "source": [
        "![image.png](attachment:image.png)"
      ]
    },
    {
      "cell_type": "code",
      "execution_count": null,
      "id": "81b2a144",
      "metadata": {
        "id": "81b2a144"
      },
      "outputs": [],
      "source": [
        "lower_q = df[\"UN_Estimate\"].quantile(0.25)\n",
        "lower_q"
      ]
    },
    {
      "cell_type": "code",
      "execution_count": null,
      "id": "4d2d9908",
      "metadata": {
        "id": "4d2d9908"
      },
      "outputs": [],
      "source": [
        "higher_q = df[\"UN_Estimate\"].quantile(0.75)\n",
        "higher_q"
      ]
    },
    {
      "cell_type": "code",
      "execution_count": null,
      "id": "aed82f2e-fa8f-48ab-9cea-3bce39b624c9",
      "metadata": {
        "id": "aed82f2e-fa8f-48ab-9cea-3bce39b624c9"
      },
      "outputs": [],
      "source": [
        "iqr = higher_q - lower_q\n",
        "iqr"
      ]
    },
    {
      "cell_type": "code",
      "execution_count": null,
      "id": "305e72f9-4175-4f5f-851d-336258aa84f8",
      "metadata": {
        "id": "305e72f9-4175-4f5f-851d-336258aa84f8"
      },
      "outputs": [],
      "source": [
        "upper_boundary = higher_q + 1.5 * iqr\n",
        "upper_boundary"
      ]
    },
    {
      "cell_type": "code",
      "execution_count": null,
      "id": "f4c90c62-a405-4c6c-9ec4-b4f8af39c09c",
      "metadata": {
        "id": "f4c90c62-a405-4c6c-9ec4-b4f8af39c09c"
      },
      "outputs": [],
      "source": [
        "lower_boundary = lower_q - 1.5 * iqr\n",
        "lower_boundary"
      ]
    },
    {
      "cell_type": "code",
      "execution_count": null,
      "id": "76e66b47",
      "metadata": {
        "id": "76e66b47"
      },
      "outputs": [],
      "source": [
        "df_filtered = df[(df[\"UN_Estimate\"] < upper_boundary) & (df[\"UN_Estimate\"] > lower_boundary)]"
      ]
    },
    {
      "cell_type": "code",
      "execution_count": null,
      "id": "69e39033",
      "metadata": {
        "id": "69e39033"
      },
      "outputs": [],
      "source": [
        "df_filtered.head()"
      ]
    },
    {
      "cell_type": "code",
      "execution_count": null,
      "id": "182221f6",
      "metadata": {
        "id": "182221f6"
      },
      "outputs": [],
      "source": [
        "df_filtered.shape\n",
        "# there were 223 rows - 196 = 27 outliers dropped"
      ]
    },
    {
      "cell_type": "code",
      "execution_count": null,
      "id": "e1c70288",
      "metadata": {
        "id": "e1c70288"
      },
      "outputs": [],
      "source": [
        "df_filtered.UN_Estimate.mean()"
      ]
    },
    {
      "cell_type": "code",
      "execution_count": null,
      "id": "97b2a6f8-8898-4184-acca-922ca7a303b2",
      "metadata": {
        "id": "97b2a6f8-8898-4184-acca-922ca7a303b2"
      },
      "outputs": [],
      "source": [
        "df.UN_Estimate.mean()"
      ]
    },
    {
      "cell_type": "code",
      "execution_count": null,
      "id": "1dbffbdf",
      "metadata": {
        "id": "1dbffbdf"
      },
      "outputs": [],
      "source": [
        "#how can we create a table with following\n",
        "df_filtered.WorldBank_Estimate.mean()"
      ]
    },
    {
      "cell_type": "code",
      "execution_count": null,
      "id": "17da2063-80e6-4530-b3f3-dd8af25402af",
      "metadata": {
        "id": "17da2063-80e6-4530-b3f3-dd8af25402af"
      },
      "outputs": [],
      "source": [
        "df.WorldBank_Estimate.mean()"
      ]
    },
    {
      "cell_type": "code",
      "execution_count": null,
      "id": "6fee31d1",
      "metadata": {
        "id": "6fee31d1"
      },
      "outputs": [],
      "source": [
        "df_filtered.IMF_Estimate.mean()"
      ]
    },
    {
      "cell_type": "code",
      "execution_count": null,
      "id": "7ed56b48-b1a1-4e70-b9cb-fecc961f2993",
      "metadata": {
        "id": "7ed56b48-b1a1-4e70-b9cb-fecc961f2993"
      },
      "outputs": [],
      "source": [
        "df.IMF_Estimate.mean()"
      ]
    }
  ],
  "metadata": {
    "kernelspec": {
      "display_name": "Python 3 (ipykernel)",
      "language": "python",
      "name": "python3"
    },
    "language_info": {
      "codemirror_mode": {
        "name": "ipython",
        "version": 3
      },
      "file_extension": ".py",
      "mimetype": "text/x-python",
      "name": "python",
      "nbconvert_exporter": "python",
      "pygments_lexer": "ipython3",
      "version": "3.12.4"
    },
    "colab": {
      "provenance": []
    }
  },
  "nbformat": 4,
  "nbformat_minor": 5
}